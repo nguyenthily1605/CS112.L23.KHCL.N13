{
  "nbformat": 4,
  "nbformat_minor": 0,
  "metadata": {
    "colab": {
      "name": "CS116_BT2.ipynb",
      "provenance": [],
      "collapsed_sections": []
    },
    "kernelspec": {
      "name": "python3",
      "display_name": "Python 3"
    },
    "language_info": {
      "name": "python"
    }
  },
  "cells": [
    {
      "cell_type": "markdown",
      "metadata": {
        "id": "jiiaWwxk97qY"
      },
      "source": [
        ""
      ]
    },
    {
      "cell_type": "markdown",
      "metadata": {
        "id": "xBlOUhytDr5G"
      },
      "source": [
        "#THÔNG TIN SINH VIÊN"
      ]
    },
    {
      "cell_type": "markdown",
      "metadata": {
        "id": "dFLPbwlj9y8R"
      },
      "source": [
        "Họ Và Tên: Trương Minh Tuấn\n",
        "\n",
        "MSSV: 19522485\n",
        "\n",
        "Ngày thực hành: 28/09/2021\n"
      ]
    },
    {
      "cell_type": "markdown",
      "metadata": {
        "id": "F8bWyvP8DvUF"
      },
      "source": [
        "#THAO TÁC DỮ LIỆU\n"
      ]
    },
    {
      "cell_type": "code",
      "metadata": {
        "colab": {
          "base_uri": "https://localhost:8080/",
          "height": 1000
        },
        "id": "fxoF-UKA-A0t",
        "outputId": "d1f35121-478d-4ae1-b2e2-9e7b7606e574"
      },
      "source": [
        "!pip install matplotlib==3.1.3\n",
        "!pip install osmnet\n",
        "!pip install folium\n",
        "\n",
        "!pip install rtree\n",
        "!pip install pygeos\n",
        "!pip install geojson\n",
        "!pip install geopandas"
      ],
      "execution_count": null,
      "outputs": [
        {
          "output_type": "stream",
          "name": "stdout",
          "text": [
            "Collecting matplotlib==3.1.3\n",
            "  Downloading matplotlib-3.1.3-cp37-cp37m-manylinux1_x86_64.whl (13.1 MB)\n",
            "\u001b[K     |████████████████████████████████| 13.1 MB 93 kB/s \n",
            "\u001b[?25hRequirement already satisfied: python-dateutil>=2.1 in /usr/local/lib/python3.7/dist-packages (from matplotlib==3.1.3) (2.8.2)\n",
            "Requirement already satisfied: pyparsing!=2.0.4,!=2.1.2,!=2.1.6,>=2.0.1 in /usr/local/lib/python3.7/dist-packages (from matplotlib==3.1.3) (2.4.7)\n",
            "Requirement already satisfied: kiwisolver>=1.0.1 in /usr/local/lib/python3.7/dist-packages (from matplotlib==3.1.3) (1.3.2)\n",
            "Requirement already satisfied: numpy>=1.11 in /usr/local/lib/python3.7/dist-packages (from matplotlib==3.1.3) (1.19.5)\n",
            "Requirement already satisfied: cycler>=0.10 in /usr/local/lib/python3.7/dist-packages (from matplotlib==3.1.3) (0.10.0)\n",
            "Requirement already satisfied: six in /usr/local/lib/python3.7/dist-packages (from cycler>=0.10->matplotlib==3.1.3) (1.15.0)\n",
            "Installing collected packages: matplotlib\n",
            "  Attempting uninstall: matplotlib\n",
            "    Found existing installation: matplotlib 3.2.2\n",
            "    Uninstalling matplotlib-3.2.2:\n",
            "      Successfully uninstalled matplotlib-3.2.2\n",
            "\u001b[31mERROR: pip's dependency resolver does not currently take into account all the packages that are installed. This behaviour is the source of the following dependency conflicts.\n",
            "albumentations 0.1.12 requires imgaug<0.2.7,>=0.2.5, but you have imgaug 0.2.9 which is incompatible.\u001b[0m\n",
            "Successfully installed matplotlib-3.1.3\n"
          ]
        },
        {
          "output_type": "display_data",
          "data": {
            "application/vnd.colab-display-data+json": {
              "pip_warning": {
                "packages": [
                  "matplotlib",
                  "mpl_toolkits"
                ]
              }
            }
          },
          "metadata": {}
        },
        {
          "output_type": "stream",
          "name": "stdout",
          "text": [
            "Collecting osmnet\n",
            "  Downloading osmnet-0.1.6-py3-none-any.whl (25 kB)\n",
            "Requirement already satisfied: pandas>=0.23 in /usr/local/lib/python3.7/dist-packages (from osmnet) (1.1.5)\n",
            "Requirement already satisfied: requests>=2.9.1 in /usr/local/lib/python3.7/dist-packages (from osmnet) (2.23.0)\n",
            "Requirement already satisfied: numpy>=1.10 in /usr/local/lib/python3.7/dist-packages (from osmnet) (1.19.5)\n",
            "Collecting geopandas>=0.7\n",
            "  Downloading geopandas-0.9.0-py2.py3-none-any.whl (994 kB)\n",
            "\u001b[K     |████████████████████████████████| 994 kB 6.9 MB/s \n",
            "\u001b[?25hRequirement already satisfied: shapely>=1.5 in /usr/local/lib/python3.7/dist-packages (from osmnet) (1.7.1)\n",
            "Collecting pyproj>=2.2.0\n",
            "  Downloading pyproj-3.2.1-cp37-cp37m-manylinux2010_x86_64.whl (6.3 MB)\n",
            "\u001b[K     |████████████████████████████████| 6.3 MB 54.8 MB/s \n",
            "\u001b[?25hCollecting fiona>=1.8\n",
            "  Downloading Fiona-1.8.20-cp37-cp37m-manylinux1_x86_64.whl (15.4 MB)\n",
            "\u001b[K     |████████████████████████████████| 15.4 MB 39 kB/s \n",
            "\u001b[?25hRequirement already satisfied: certifi in /usr/local/lib/python3.7/dist-packages (from fiona>=1.8->geopandas>=0.7->osmnet) (2021.5.30)\n",
            "Collecting cligj>=0.5\n",
            "  Downloading cligj-0.7.2-py3-none-any.whl (7.1 kB)\n",
            "Requirement already satisfied: setuptools in /usr/local/lib/python3.7/dist-packages (from fiona>=1.8->geopandas>=0.7->osmnet) (57.4.0)\n",
            "Collecting munch\n",
            "  Downloading munch-2.5.0-py2.py3-none-any.whl (10 kB)\n",
            "Requirement already satisfied: six>=1.7 in /usr/local/lib/python3.7/dist-packages (from fiona>=1.8->geopandas>=0.7->osmnet) (1.15.0)\n",
            "Requirement already satisfied: click>=4.0 in /usr/local/lib/python3.7/dist-packages (from fiona>=1.8->geopandas>=0.7->osmnet) (7.1.2)\n",
            "Requirement already satisfied: attrs>=17 in /usr/local/lib/python3.7/dist-packages (from fiona>=1.8->geopandas>=0.7->osmnet) (21.2.0)\n",
            "Collecting click-plugins>=1.0\n",
            "  Downloading click_plugins-1.1.1-py2.py3-none-any.whl (7.5 kB)\n",
            "Requirement already satisfied: pytz>=2017.2 in /usr/local/lib/python3.7/dist-packages (from pandas>=0.23->osmnet) (2018.9)\n",
            "Requirement already satisfied: python-dateutil>=2.7.3 in /usr/local/lib/python3.7/dist-packages (from pandas>=0.23->osmnet) (2.8.2)\n",
            "Requirement already satisfied: urllib3!=1.25.0,!=1.25.1,<1.26,>=1.21.1 in /usr/local/lib/python3.7/dist-packages (from requests>=2.9.1->osmnet) (1.24.3)\n",
            "Requirement already satisfied: chardet<4,>=3.0.2 in /usr/local/lib/python3.7/dist-packages (from requests>=2.9.1->osmnet) (3.0.4)\n",
            "Requirement already satisfied: idna<3,>=2.5 in /usr/local/lib/python3.7/dist-packages (from requests>=2.9.1->osmnet) (2.10)\n",
            "Installing collected packages: munch, cligj, click-plugins, pyproj, fiona, geopandas, osmnet\n",
            "Successfully installed click-plugins-1.1.1 cligj-0.7.2 fiona-1.8.20 geopandas-0.9.0 munch-2.5.0 osmnet-0.1.6 pyproj-3.2.1\n",
            "Requirement already satisfied: folium in /usr/local/lib/python3.7/dist-packages (0.8.3)\n",
            "Requirement already satisfied: requests in /usr/local/lib/python3.7/dist-packages (from folium) (2.23.0)\n",
            "Requirement already satisfied: jinja2 in /usr/local/lib/python3.7/dist-packages (from folium) (2.11.3)\n",
            "Requirement already satisfied: branca>=0.3.0 in /usr/local/lib/python3.7/dist-packages (from folium) (0.4.2)\n",
            "Requirement already satisfied: six in /usr/local/lib/python3.7/dist-packages (from folium) (1.15.0)\n",
            "Requirement already satisfied: numpy in /usr/local/lib/python3.7/dist-packages (from folium) (1.19.5)\n",
            "Requirement already satisfied: MarkupSafe>=0.23 in /usr/local/lib/python3.7/dist-packages (from jinja2->folium) (2.0.1)\n",
            "Requirement already satisfied: idna<3,>=2.5 in /usr/local/lib/python3.7/dist-packages (from requests->folium) (2.10)\n",
            "Requirement already satisfied: chardet<4,>=3.0.2 in /usr/local/lib/python3.7/dist-packages (from requests->folium) (3.0.4)\n",
            "Requirement already satisfied: urllib3!=1.25.0,!=1.25.1,<1.26,>=1.21.1 in /usr/local/lib/python3.7/dist-packages (from requests->folium) (1.24.3)\n",
            "Requirement already satisfied: certifi>=2017.4.17 in /usr/local/lib/python3.7/dist-packages (from requests->folium) (2021.5.30)\n",
            "Collecting rtree\n",
            "  Downloading Rtree-0.9.7-cp37-cp37m-manylinux2010_x86_64.whl (994 kB)\n",
            "\u001b[K     |████████████████████████████████| 994 kB 5.1 MB/s \n",
            "\u001b[?25hInstalling collected packages: rtree\n",
            "Successfully installed rtree-0.9.7\n",
            "Collecting pygeos\n",
            "  Downloading pygeos-0.10.2-cp37-cp37m-manylinux_2_12_x86_64.manylinux2010_x86_64.whl (1.8 MB)\n",
            "\u001b[K     |████████████████████████████████| 1.8 MB 5.1 MB/s \n",
            "\u001b[?25hRequirement already satisfied: numpy>=1.13 in /usr/local/lib/python3.7/dist-packages (from pygeos) (1.19.5)\n",
            "Installing collected packages: pygeos\n",
            "Successfully installed pygeos-0.10.2\n",
            "Collecting geojson\n",
            "  Downloading geojson-2.5.0-py2.py3-none-any.whl (14 kB)\n",
            "Installing collected packages: geojson\n",
            "Successfully installed geojson-2.5.0\n",
            "Requirement already satisfied: geopandas in /usr/local/lib/python3.7/dist-packages (0.9.0)\n",
            "Requirement already satisfied: shapely>=1.6 in /usr/local/lib/python3.7/dist-packages (from geopandas) (1.7.1)\n",
            "Requirement already satisfied: pandas>=0.24.0 in /usr/local/lib/python3.7/dist-packages (from geopandas) (1.1.5)\n",
            "Requirement already satisfied: fiona>=1.8 in /usr/local/lib/python3.7/dist-packages (from geopandas) (1.8.20)\n",
            "Requirement already satisfied: pyproj>=2.2.0 in /usr/local/lib/python3.7/dist-packages (from geopandas) (3.2.1)\n",
            "Requirement already satisfied: click-plugins>=1.0 in /usr/local/lib/python3.7/dist-packages (from fiona>=1.8->geopandas) (1.1.1)\n",
            "Requirement already satisfied: setuptools in /usr/local/lib/python3.7/dist-packages (from fiona>=1.8->geopandas) (57.4.0)\n",
            "Requirement already satisfied: click>=4.0 in /usr/local/lib/python3.7/dist-packages (from fiona>=1.8->geopandas) (7.1.2)\n",
            "Requirement already satisfied: six>=1.7 in /usr/local/lib/python3.7/dist-packages (from fiona>=1.8->geopandas) (1.15.0)\n",
            "Requirement already satisfied: attrs>=17 in /usr/local/lib/python3.7/dist-packages (from fiona>=1.8->geopandas) (21.2.0)\n",
            "Requirement already satisfied: cligj>=0.5 in /usr/local/lib/python3.7/dist-packages (from fiona>=1.8->geopandas) (0.7.2)\n",
            "Requirement already satisfied: munch in /usr/local/lib/python3.7/dist-packages (from fiona>=1.8->geopandas) (2.5.0)\n",
            "Requirement already satisfied: certifi in /usr/local/lib/python3.7/dist-packages (from fiona>=1.8->geopandas) (2021.5.30)\n",
            "Requirement already satisfied: pytz>=2017.2 in /usr/local/lib/python3.7/dist-packages (from pandas>=0.24.0->geopandas) (2018.9)\n",
            "Requirement already satisfied: numpy>=1.15.4 in /usr/local/lib/python3.7/dist-packages (from pandas>=0.24.0->geopandas) (1.19.5)\n",
            "Requirement already satisfied: python-dateutil>=2.7.3 in /usr/local/lib/python3.7/dist-packages (from pandas>=0.24.0->geopandas) (2.8.2)\n"
          ]
        }
      ]
    },
    {
      "cell_type": "code",
      "metadata": {
        "colab": {
          "base_uri": "https://localhost:8080/"
        },
        "id": "hwRfow8E-Ut8",
        "outputId": "4733bc22-dcc6-45e6-d5dc-5d8e5566985c"
      },
      "source": [
        "!git clone https://github.com/CityScope/CSL_HCMC"
      ],
      "execution_count": 2,
      "outputs": [
        {
          "output_type": "stream",
          "name": "stdout",
          "text": [
            "Cloning into 'CSL_HCMC'...\n",
            "remote: Enumerating objects: 1930, done.\u001b[K\n",
            "remote: Counting objects: 100% (590/590), done.\u001b[K\n",
            "remote: Compressing objects: 100% (314/314), done.\u001b[K\n",
            "remote: Total 1930 (delta 309), reused 500 (delta 270), pack-reused 1340\u001b[K\n",
            "Receiving objects: 100% (1930/1930), 178.53 MiB | 25.80 MiB/s, done.\n",
            "Resolving deltas: 100% (986/986), done.\n",
            "Checking out files: 100% (542/542), done.\n"
          ]
        }
      ]
    },
    {
      "cell_type": "code",
      "metadata": {
        "id": "mD71Xr_s_LLs"
      },
      "source": [
        "from sklearn.cluster import KMeans\n",
        "import numpy as np\n",
        "import matplotlib.pyplot as plt\n",
        "import osmnet\n",
        "import folium\n",
        "import rtree\n",
        "import pygeos\n",
        "import geojson\n",
        "import geopandas as gpd\n"
      ],
      "execution_count": 50,
      "outputs": []
    },
    {
      "cell_type": "code",
      "metadata": {
        "colab": {
          "base_uri": "https://localhost:8080/"
        },
        "id": "XP0oL4sYEhfc",
        "outputId": "2308355e-8dbc-4c51-813d-d1ad71824e18"
      },
      "source": [
        "from google.colab import drive\n",
        "drive.mount('/content/drive')"
      ],
      "execution_count": 15,
      "outputs": [
        {
          "output_type": "stream",
          "name": "stdout",
          "text": [
            "Mounted at /content/drive\n"
          ]
        }
      ]
    },
    {
      "cell_type": "code",
      "metadata": {
        "id": "K2JAFpyV-3vN"
      },
      "source": [
        "file = gpd.read_file(\"/content/CSL_HCMC/Data/GIS/Population/population_HCMC/population_shapefile/Population_District_Level.shp\")"
      ],
      "execution_count": 9,
      "outputs": []
    },
    {
      "cell_type": "code",
      "metadata": {
        "colab": {
          "base_uri": "https://localhost:8080/",
          "height": 559
        },
        "id": "3m9BaUcU_2t7",
        "outputId": "4cef0562-103d-42e5-d188-f4a2457768f3"
      },
      "source": [
        "file.head(5)"
      ],
      "execution_count": 13,
      "outputs": [
        {
          "output_type": "execute_result",
          "data": {
            "text/html": [
              "<div>\n",
              "<style scoped>\n",
              "    .dataframe tbody tr th:only-of-type {\n",
              "        vertical-align: middle;\n",
              "    }\n",
              "\n",
              "    .dataframe tbody tr th {\n",
              "        vertical-align: top;\n",
              "    }\n",
              "\n",
              "    .dataframe thead th {\n",
              "        text-align: right;\n",
              "    }\n",
              "</style>\n",
              "<table border=\"1\" class=\"dataframe\">\n",
              "  <thead>\n",
              "    <tr style=\"text-align: right;\">\n",
              "      <th></th>\n",
              "      <th>Dist_Name</th>\n",
              "      <th>Dist_ID</th>\n",
              "      <th>Level</th>\n",
              "      <th>Pop_2009</th>\n",
              "      <th>Pop_2010</th>\n",
              "      <th>Pop_2011</th>\n",
              "      <th>Pop_2012</th>\n",
              "      <th>Pop_2013</th>\n",
              "      <th>Pop_2014</th>\n",
              "      <th>Pop_2015</th>\n",
              "      <th>Pop_2016</th>\n",
              "      <th>Pop_2017</th>\n",
              "      <th>Pop_2019</th>\n",
              "      <th>Den_2009</th>\n",
              "      <th>Den_2010</th>\n",
              "      <th>Den_2011</th>\n",
              "      <th>Den_2012</th>\n",
              "      <th>Den_2013</th>\n",
              "      <th>Den_2014</th>\n",
              "      <th>Den_2015</th>\n",
              "      <th>Den_2016</th>\n",
              "      <th>Den_2017</th>\n",
              "      <th>Den_2019</th>\n",
              "      <th>Shape_Leng</th>\n",
              "      <th>Shape_Area</th>\n",
              "      <th>geometry</th>\n",
              "    </tr>\n",
              "  </thead>\n",
              "  <tbody>\n",
              "    <tr>\n",
              "      <th>0</th>\n",
              "      <td>District 1</td>\n",
              "      <td>760</td>\n",
              "      <td>District</td>\n",
              "      <td>180225.0</td>\n",
              "      <td>187435.0</td>\n",
              "      <td>187419.0</td>\n",
              "      <td>190943.0</td>\n",
              "      <td>197421.0</td>\n",
              "      <td>200297.0</td>\n",
              "      <td>193632.0</td>\n",
              "      <td>208475.0</td>\n",
              "      <td>211220.0</td>\n",
              "      <td>142625.0</td>\n",
              "      <td>23360.40</td>\n",
              "      <td>24294.90</td>\n",
              "      <td>24292.90</td>\n",
              "      <td>24749.60</td>\n",
              "      <td>25589.30</td>\n",
              "      <td>25962.10</td>\n",
              "      <td>25098.20</td>\n",
              "      <td>27022.1</td>\n",
              "      <td>27377.90</td>\n",
              "      <td>18486.8</td>\n",
              "      <td>15274.835115</td>\n",
              "      <td>7.714899e+06</td>\n",
              "      <td>POLYGON ((684948.318 1193882.223, 684971.256 1...</td>\n",
              "    </tr>\n",
              "    <tr>\n",
              "      <th>1</th>\n",
              "      <td>District 3</td>\n",
              "      <td>770</td>\n",
              "      <td>District</td>\n",
              "      <td>190553.0</td>\n",
              "      <td>188945.0</td>\n",
              "      <td>190631.0</td>\n",
              "      <td>191580.0</td>\n",
              "      <td>193206.0</td>\n",
              "      <td>193694.0</td>\n",
              "      <td>196333.0</td>\n",
              "      <td>198104.0</td>\n",
              "      <td>199095.0</td>\n",
              "      <td>190375.0</td>\n",
              "      <td>38688.60</td>\n",
              "      <td>38362.10</td>\n",
              "      <td>38704.40</td>\n",
              "      <td>38897.10</td>\n",
              "      <td>39227.20</td>\n",
              "      <td>39326.30</td>\n",
              "      <td>39862.10</td>\n",
              "      <td>40221.7</td>\n",
              "      <td>40422.90</td>\n",
              "      <td>38652.5</td>\n",
              "      <td>12182.058264</td>\n",
              "      <td>4.925215e+06</td>\n",
              "      <td>POLYGON ((684382.122 1193521.050, 684410.753 1...</td>\n",
              "    </tr>\n",
              "    <tr>\n",
              "      <th>2</th>\n",
              "      <td>District 4</td>\n",
              "      <td>773</td>\n",
              "      <td>District</td>\n",
              "      <td>180980.0</td>\n",
              "      <td>183261.0</td>\n",
              "      <td>184711.0</td>\n",
              "      <td>185649.0</td>\n",
              "      <td>185808.0</td>\n",
              "      <td>187157.0</td>\n",
              "      <td>186727.0</td>\n",
              "      <td>186995.0</td>\n",
              "      <td>183894.0</td>\n",
              "      <td>175329.0</td>\n",
              "      <td>43311.10</td>\n",
              "      <td>43857.00</td>\n",
              "      <td>44204.00</td>\n",
              "      <td>44428.40</td>\n",
              "      <td>44466.50</td>\n",
              "      <td>44789.30</td>\n",
              "      <td>44686.40</td>\n",
              "      <td>44750.6</td>\n",
              "      <td>44008.40</td>\n",
              "      <td>41958.7</td>\n",
              "      <td>9483.716891</td>\n",
              "      <td>4.178668e+06</td>\n",
              "      <td>POLYGON ((687625.438 1189132.516, 687615.280 1...</td>\n",
              "    </tr>\n",
              "    <tr>\n",
              "      <th>3</th>\n",
              "      <td>District 6</td>\n",
              "      <td>775</td>\n",
              "      <td>District</td>\n",
              "      <td>249329.0</td>\n",
              "      <td>253474.0</td>\n",
              "      <td>254212.0</td>\n",
              "      <td>257865.0</td>\n",
              "      <td>266121.0</td>\n",
              "      <td>257183.0</td>\n",
              "      <td>258945.0</td>\n",
              "      <td>260742.0</td>\n",
              "      <td>262757.0</td>\n",
              "      <td>233561.0</td>\n",
              "      <td>34910.50</td>\n",
              "      <td>35490.80</td>\n",
              "      <td>35594.20</td>\n",
              "      <td>36105.70</td>\n",
              "      <td>37261.60</td>\n",
              "      <td>36010.20</td>\n",
              "      <td>36256.90</td>\n",
              "      <td>36508.5</td>\n",
              "      <td>36790.60</td>\n",
              "      <td>32702.7</td>\n",
              "      <td>13077.365262</td>\n",
              "      <td>7.140945e+06</td>\n",
              "      <td>POLYGON ((679534.413 1187518.498, 679077.904 1...</td>\n",
              "    </tr>\n",
              "    <tr>\n",
              "      <th>4</th>\n",
              "      <td>District 7</td>\n",
              "      <td>778</td>\n",
              "      <td>District</td>\n",
              "      <td>244276.0</td>\n",
              "      <td>274828.0</td>\n",
              "      <td>268483.0</td>\n",
              "      <td>266633.0</td>\n",
              "      <td>280743.0</td>\n",
              "      <td>296757.0</td>\n",
              "      <td>310178.0</td>\n",
              "      <td>317488.0</td>\n",
              "      <td>327223.0</td>\n",
              "      <td>360155.0</td>\n",
              "      <td>6929.39</td>\n",
              "      <td>7796.06</td>\n",
              "      <td>7616.07</td>\n",
              "      <td>7563.59</td>\n",
              "      <td>7963.85</td>\n",
              "      <td>8418.12</td>\n",
              "      <td>8798.84</td>\n",
              "      <td>9006.2</td>\n",
              "      <td>9282.35</td>\n",
              "      <td>10216.5</td>\n",
              "      <td>33260.915360</td>\n",
              "      <td>3.525220e+07</td>\n",
              "      <td>POLYGON ((691506.715 1190058.151, 691359.893 1...</td>\n",
              "    </tr>\n",
              "  </tbody>\n",
              "</table>\n",
              "</div>"
            ],
            "text/plain": [
              "    Dist_Name  ...                                           geometry\n",
              "0  District 1  ...  POLYGON ((684948.318 1193882.223, 684971.256 1...\n",
              "1  District 3  ...  POLYGON ((684382.122 1193521.050, 684410.753 1...\n",
              "2  District 4  ...  POLYGON ((687625.438 1189132.516, 687615.280 1...\n",
              "3  District 6  ...  POLYGON ((679534.413 1187518.498, 679077.904 1...\n",
              "4  District 7  ...  POLYGON ((691506.715 1190058.151, 691359.893 1...\n",
              "\n",
              "[5 rows x 26 columns]"
            ]
          },
          "metadata": {},
          "execution_count": 13
        }
      ]
    },
    {
      "cell_type": "code",
      "metadata": {
        "colab": {
          "base_uri": "https://localhost:8080/"
        },
        "id": "wOqOrj-SImo2",
        "outputId": "53bc3556-9d27-4ebb-db64-c41b74a46e7c"
      },
      "source": [
        "file.crs"
      ],
      "execution_count": 27,
      "outputs": [
        {
          "output_type": "execute_result",
          "data": {
            "text/plain": [
              "<Projected CRS: EPSG:32648>\n",
              "Name: WGS 84 / UTM zone 48N\n",
              "Axis Info [cartesian]:\n",
              "- E[east]: Easting (metre)\n",
              "- N[north]: Northing (metre)\n",
              "Area of Use:\n",
              "- name: Between 102°E and 108°E, northern hemisphere between equator and 84°N, onshore and offshore. Cambodia. China. Indonesia. Laos. Malaysia - West Malaysia. Mongolia. Russian Federation. Singapore. Thailand. Vietnam.\n",
              "- bounds: (102.0, 0.0, 108.0, 84.0)\n",
              "Coordinate Operation:\n",
              "- name: UTM zone 48N\n",
              "- method: Transverse Mercator\n",
              "Datum: World Geodetic System 1984 ensemble\n",
              "- Ellipsoid: WGS 84\n",
              "- Prime Meridian: Greenwich"
            ]
          },
          "metadata": {},
          "execution_count": 27
        }
      ]
    },
    {
      "cell_type": "code",
      "metadata": {
        "id": "oTvoZfZ5_3mf"
      },
      "source": [
        "click_dt = gpd.read_file(\"/content/drive/MyDrive/CS116_B2/response3.json\")"
      ],
      "execution_count": 56,
      "outputs": []
    },
    {
      "cell_type": "code",
      "metadata": {
        "colab": {
          "base_uri": "https://localhost:8080/",
          "height": 203
        },
        "id": "Tn-o-tIiFTwn",
        "outputId": "cb24eeae-7280-4357-e986-e5948ba99795"
      },
      "source": [
        "click_dt.head(5)"
      ],
      "execution_count": 57,
      "outputs": [
        {
          "output_type": "execute_result",
          "data": {
            "text/html": [
              "<div>\n",
              "<style scoped>\n",
              "    .dataframe tbody tr th:only-of-type {\n",
              "        vertical-align: middle;\n",
              "    }\n",
              "\n",
              "    .dataframe tbody tr th {\n",
              "        vertical-align: top;\n",
              "    }\n",
              "\n",
              "    .dataframe thead th {\n",
              "        text-align: right;\n",
              "    }\n",
              "</style>\n",
              "<table border=\"1\" class=\"dataframe\">\n",
              "  <thead>\n",
              "    <tr style=\"text-align: right;\">\n",
              "      <th></th>\n",
              "      <th>dbh</th>\n",
              "      <th>geometry</th>\n",
              "    </tr>\n",
              "  </thead>\n",
              "  <tbody>\n",
              "    <tr>\n",
              "      <th>0</th>\n",
              "      <td>1</td>\n",
              "      <td>POINT (106.71136 10.85113)</td>\n",
              "    </tr>\n",
              "    <tr>\n",
              "      <th>1</th>\n",
              "      <td>1</td>\n",
              "      <td>POINT (106.71695 10.74449)</td>\n",
              "    </tr>\n",
              "    <tr>\n",
              "      <th>2</th>\n",
              "      <td>1</td>\n",
              "      <td>POINT (106.66315 10.83289)</td>\n",
              "    </tr>\n",
              "    <tr>\n",
              "      <th>3</th>\n",
              "      <td>1</td>\n",
              "      <td>POINT (106.66267 10.83339)</td>\n",
              "    </tr>\n",
              "    <tr>\n",
              "      <th>4</th>\n",
              "      <td>1</td>\n",
              "      <td>POINT (106.65977 10.83729)</td>\n",
              "    </tr>\n",
              "  </tbody>\n",
              "</table>\n",
              "</div>"
            ],
            "text/plain": [
              "   dbh                    geometry\n",
              "0    1  POINT (106.71136 10.85113)\n",
              "1    1  POINT (106.71695 10.74449)\n",
              "2    1  POINT (106.66315 10.83289)\n",
              "3    1  POINT (106.66267 10.83339)\n",
              "4    1  POINT (106.65977 10.83729)"
            ]
          },
          "metadata": {},
          "execution_count": 57
        }
      ]
    },
    {
      "cell_type": "code",
      "metadata": {
        "colab": {
          "base_uri": "https://localhost:8080/"
        },
        "id": "m63R8YicI8Dw",
        "outputId": "9066185e-b5bc-4608-d8f5-f57157b9a3b8"
      },
      "source": [
        "backup_crs = click_dt.crs\n",
        "backup_crs"
      ],
      "execution_count": 58,
      "outputs": [
        {
          "output_type": "execute_result",
          "data": {
            "text/plain": [
              "<Geographic 2D CRS: EPSG:4326>\n",
              "Name: WGS 84\n",
              "Axis Info [ellipsoidal]:\n",
              "- Lat[north]: Geodetic latitude (degree)\n",
              "- Lon[east]: Geodetic longitude (degree)\n",
              "Area of Use:\n",
              "- name: World.\n",
              "- bounds: (-180.0, -90.0, 180.0, 90.0)\n",
              "Datum: World Geodetic System 1984 ensemble\n",
              "- Ellipsoid: WGS 84\n",
              "- Prime Meridian: Greenwich"
            ]
          },
          "metadata": {},
          "execution_count": 58
        }
      ]
    },
    {
      "cell_type": "code",
      "metadata": {
        "id": "i_tnrGdYGVqy"
      },
      "source": [
        "click_dt = gpd.read_file(\"/content/drive/MyDrive/CS116_B2/response3.json\")"
      ],
      "execution_count": 59,
      "outputs": []
    },
    {
      "cell_type": "code",
      "metadata": {
        "colab": {
          "base_uri": "https://localhost:8080/",
          "height": 203
        },
        "id": "GbsS2WV3Gp3i",
        "outputId": "a412acd4-2962-4c1b-f468-55c4045c33d4"
      },
      "source": [
        "click_dt.head(5)"
      ],
      "execution_count": 60,
      "outputs": [
        {
          "output_type": "execute_result",
          "data": {
            "text/html": [
              "<div>\n",
              "<style scoped>\n",
              "    .dataframe tbody tr th:only-of-type {\n",
              "        vertical-align: middle;\n",
              "    }\n",
              "\n",
              "    .dataframe tbody tr th {\n",
              "        vertical-align: top;\n",
              "    }\n",
              "\n",
              "    .dataframe thead th {\n",
              "        text-align: right;\n",
              "    }\n",
              "</style>\n",
              "<table border=\"1\" class=\"dataframe\">\n",
              "  <thead>\n",
              "    <tr style=\"text-align: right;\">\n",
              "      <th></th>\n",
              "      <th>dbh</th>\n",
              "      <th>geometry</th>\n",
              "    </tr>\n",
              "  </thead>\n",
              "  <tbody>\n",
              "    <tr>\n",
              "      <th>0</th>\n",
              "      <td>1</td>\n",
              "      <td>POINT (106.71136 10.85113)</td>\n",
              "    </tr>\n",
              "    <tr>\n",
              "      <th>1</th>\n",
              "      <td>1</td>\n",
              "      <td>POINT (106.71695 10.74449)</td>\n",
              "    </tr>\n",
              "    <tr>\n",
              "      <th>2</th>\n",
              "      <td>1</td>\n",
              "      <td>POINT (106.66315 10.83289)</td>\n",
              "    </tr>\n",
              "    <tr>\n",
              "      <th>3</th>\n",
              "      <td>1</td>\n",
              "      <td>POINT (106.66267 10.83339)</td>\n",
              "    </tr>\n",
              "    <tr>\n",
              "      <th>4</th>\n",
              "      <td>1</td>\n",
              "      <td>POINT (106.65977 10.83729)</td>\n",
              "    </tr>\n",
              "  </tbody>\n",
              "</table>\n",
              "</div>"
            ],
            "text/plain": [
              "   dbh                    geometry\n",
              "0    1  POINT (106.71136 10.85113)\n",
              "1    1  POINT (106.71695 10.74449)\n",
              "2    1  POINT (106.66315 10.83289)\n",
              "3    1  POINT (106.66267 10.83339)\n",
              "4    1  POINT (106.65977 10.83729)"
            ]
          },
          "metadata": {},
          "execution_count": 60
        }
      ]
    },
    {
      "cell_type": "code",
      "metadata": {
        "id": "v7_kwbsHGz98"
      },
      "source": [
        "click_dt= click_dt.to_crs(epsg=32648)"
      ],
      "execution_count": 63,
      "outputs": []
    },
    {
      "cell_type": "code",
      "metadata": {
        "colab": {
          "base_uri": "https://localhost:8080/",
          "height": 203
        },
        "id": "LqdCbkCTG2pE",
        "outputId": "a08d65db-d868-4794-dbec-e389e983d617"
      },
      "source": [
        "click_dt.head(5)"
      ],
      "execution_count": 64,
      "outputs": [
        {
          "output_type": "execute_result",
          "data": {
            "text/html": [
              "<div>\n",
              "<style scoped>\n",
              "    .dataframe tbody tr th:only-of-type {\n",
              "        vertical-align: middle;\n",
              "    }\n",
              "\n",
              "    .dataframe tbody tr th {\n",
              "        vertical-align: top;\n",
              "    }\n",
              "\n",
              "    .dataframe thead th {\n",
              "        text-align: right;\n",
              "    }\n",
              "</style>\n",
              "<table border=\"1\" class=\"dataframe\">\n",
              "  <thead>\n",
              "    <tr style=\"text-align: right;\">\n",
              "      <th></th>\n",
              "      <th>dbh</th>\n",
              "      <th>geometry</th>\n",
              "    </tr>\n",
              "  </thead>\n",
              "  <tbody>\n",
              "    <tr>\n",
              "      <th>0</th>\n",
              "      <td>1</td>\n",
              "      <td>POINT (687074.226 1200044.747)</td>\n",
              "    </tr>\n",
              "    <tr>\n",
              "      <th>1</th>\n",
              "      <td>1</td>\n",
              "      <td>POINT (687752.360 1188252.815)</td>\n",
              "    </tr>\n",
              "    <tr>\n",
              "      <th>2</th>\n",
              "      <td>1</td>\n",
              "      <td>POINT (681813.990 1197998.313)</td>\n",
              "    </tr>\n",
              "    <tr>\n",
              "      <th>3</th>\n",
              "      <td>1</td>\n",
              "      <td>POINT (681761.573 1198052.679)</td>\n",
              "    </tr>\n",
              "    <tr>\n",
              "      <th>4</th>\n",
              "      <td>1</td>\n",
              "      <td>POINT (681442.508 1198483.069)</td>\n",
              "    </tr>\n",
              "  </tbody>\n",
              "</table>\n",
              "</div>"
            ],
            "text/plain": [
              "   dbh                        geometry\n",
              "0    1  POINT (687074.226 1200044.747)\n",
              "1    1  POINT (687752.360 1188252.815)\n",
              "2    1  POINT (681813.990 1197998.313)\n",
              "3    1  POINT (681761.573 1198052.679)\n",
              "4    1  POINT (681442.508 1198483.069)"
            ]
          },
          "metadata": {},
          "execution_count": 64
        }
      ]
    },
    {
      "cell_type": "markdown",
      "metadata": {
        "id": "-Co-s6VZi2lA"
      },
      "source": [
        "#YÊU CẦU BÀI TẬP:"
      ]
    },
    {
      "cell_type": "markdown",
      "metadata": {
        "id": "_Iw3X0d-HCF1"
      },
      "source": [
        "TOP 3 QUẬN/HUYỆN CÓ TỐC ĐỘ TĂNG DÂN SỐ LỚN NHẤT"
      ]
    },
    {
      "cell_type": "code",
      "metadata": {
        "id": "IL9rVZ8lHRC5"
      },
      "source": [
        "file[\"Tocdo\"] = file[\"Pop_2019\"]/file[\"Pop_2017\"]"
      ],
      "execution_count": 65,
      "outputs": []
    },
    {
      "cell_type": "code",
      "metadata": {
        "colab": {
          "base_uri": "https://localhost:8080/"
        },
        "id": "Y313GjnEJVhY",
        "outputId": "7f302068-32ef-4a9b-d36c-527424acb4b3"
      },
      "source": [
        "lst = list(file.sort_values(\"Tocdo\", ascending=False)[\"Dist_Name\"].head(10))\n",
        "print(\"Top 10 quận/huyện có tốc độ tăng dân số lớn nhất là: \")\n",
        "for i in lst:\n",
        "  print(\"+ \" + str(i))"
      ],
      "execution_count": 66,
      "outputs": [
        {
          "output_type": "stream",
          "name": "stdout",
          "text": [
            "Top 10 quận/huyện có tốc độ tăng dân số lớn nhất là: \n",
            "+ District 9\n",
            "+ Hoc Mon\n",
            "+ Nha Be\n",
            "+ District 12\n",
            "+ District 2\n",
            "+ Cu Chi\n",
            "+ District 7\n",
            "+ Thu Duc\n",
            "+ Binh Chanh\n",
            "+ Binh Tan\n"
          ]
        }
      ]
    },
    {
      "cell_type": "markdown",
      "metadata": {
        "id": "PIiUBtUrJdCp"
      },
      "source": [
        "LỌC CÁC ĐIỂM CLICK"
      ]
    },
    {
      "cell_type": "code",
      "metadata": {
        "colab": {
          "base_uri": "https://localhost:8080/",
          "height": 391
        },
        "id": "8OymCBKFJe6b",
        "outputId": "c2767e30-fa01-428d-a7e1-15be782bbe95"
      },
      "source": [
        "filter_click = gpd.sjoin(click_dt, file, how=\"left\", op=\"within\")\n",
        "filter_click.head(5)\n"
      ],
      "execution_count": 67,
      "outputs": [
        {
          "output_type": "execute_result",
          "data": {
            "text/html": [
              "<div>\n",
              "<style scoped>\n",
              "    .dataframe tbody tr th:only-of-type {\n",
              "        vertical-align: middle;\n",
              "    }\n",
              "\n",
              "    .dataframe tbody tr th {\n",
              "        vertical-align: top;\n",
              "    }\n",
              "\n",
              "    .dataframe thead th {\n",
              "        text-align: right;\n",
              "    }\n",
              "</style>\n",
              "<table border=\"1\" class=\"dataframe\">\n",
              "  <thead>\n",
              "    <tr style=\"text-align: right;\">\n",
              "      <th></th>\n",
              "      <th>dbh</th>\n",
              "      <th>geometry</th>\n",
              "      <th>index_right</th>\n",
              "      <th>Dist_Name</th>\n",
              "      <th>Dist_ID</th>\n",
              "      <th>Level</th>\n",
              "      <th>Pop_2009</th>\n",
              "      <th>Pop_2010</th>\n",
              "      <th>Pop_2011</th>\n",
              "      <th>Pop_2012</th>\n",
              "      <th>Pop_2013</th>\n",
              "      <th>Pop_2014</th>\n",
              "      <th>Pop_2015</th>\n",
              "      <th>Pop_2016</th>\n",
              "      <th>Pop_2017</th>\n",
              "      <th>Pop_2019</th>\n",
              "      <th>Den_2009</th>\n",
              "      <th>Den_2010</th>\n",
              "      <th>Den_2011</th>\n",
              "      <th>Den_2012</th>\n",
              "      <th>Den_2013</th>\n",
              "      <th>Den_2014</th>\n",
              "      <th>Den_2015</th>\n",
              "      <th>Den_2016</th>\n",
              "      <th>Den_2017</th>\n",
              "      <th>Den_2019</th>\n",
              "      <th>Shape_Leng</th>\n",
              "      <th>Shape_Area</th>\n",
              "      <th>Tocdo</th>\n",
              "    </tr>\n",
              "  </thead>\n",
              "  <tbody>\n",
              "    <tr>\n",
              "      <th>0</th>\n",
              "      <td>1</td>\n",
              "      <td>POINT (687074.226 1200044.747)</td>\n",
              "      <td>15</td>\n",
              "      <td>Thu Duc</td>\n",
              "      <td>762</td>\n",
              "      <td>District</td>\n",
              "      <td>442177.0</td>\n",
              "      <td>455899.0</td>\n",
              "      <td>478900.0</td>\n",
              "      <td>500850.0</td>\n",
              "      <td>507650.0</td>\n",
              "      <td>517772.0</td>\n",
              "      <td>528413.0</td>\n",
              "      <td>537050.0</td>\n",
              "      <td>542612.0</td>\n",
              "      <td>592686.0</td>\n",
              "      <td>9259.21</td>\n",
              "      <td>9546.55</td>\n",
              "      <td>10028.20</td>\n",
              "      <td>10487.80</td>\n",
              "      <td>10630.20</td>\n",
              "      <td>10842.20</td>\n",
              "      <td>11065.00</td>\n",
              "      <td>11245.9</td>\n",
              "      <td>11362.30</td>\n",
              "      <td>12410.9</td>\n",
              "      <td>52828.501430</td>\n",
              "      <td>4.775581e+07</td>\n",
              "      <td>1.092283</td>\n",
              "    </tr>\n",
              "    <tr>\n",
              "      <th>1</th>\n",
              "      <td>1</td>\n",
              "      <td>POINT (687752.360 1188252.815)</td>\n",
              "      <td>4</td>\n",
              "      <td>District 7</td>\n",
              "      <td>778</td>\n",
              "      <td>District</td>\n",
              "      <td>244276.0</td>\n",
              "      <td>274828.0</td>\n",
              "      <td>268483.0</td>\n",
              "      <td>266633.0</td>\n",
              "      <td>280743.0</td>\n",
              "      <td>296757.0</td>\n",
              "      <td>310178.0</td>\n",
              "      <td>317488.0</td>\n",
              "      <td>327223.0</td>\n",
              "      <td>360155.0</td>\n",
              "      <td>6929.39</td>\n",
              "      <td>7796.06</td>\n",
              "      <td>7616.07</td>\n",
              "      <td>7563.59</td>\n",
              "      <td>7963.85</td>\n",
              "      <td>8418.12</td>\n",
              "      <td>8798.84</td>\n",
              "      <td>9006.2</td>\n",
              "      <td>9282.35</td>\n",
              "      <td>10216.5</td>\n",
              "      <td>33260.915360</td>\n",
              "      <td>3.525220e+07</td>\n",
              "      <td>1.100641</td>\n",
              "    </tr>\n",
              "    <tr>\n",
              "      <th>2</th>\n",
              "      <td>1</td>\n",
              "      <td>POINT (681813.990 1197998.313)</td>\n",
              "      <td>10</td>\n",
              "      <td>Go Vap</td>\n",
              "      <td>764</td>\n",
              "      <td>District</td>\n",
              "      <td>522690.0</td>\n",
              "      <td>548145.0</td>\n",
              "      <td>566216.0</td>\n",
              "      <td>588606.0</td>\n",
              "      <td>604143.0</td>\n",
              "      <td>620078.0</td>\n",
              "      <td>634146.0</td>\n",
              "      <td>646060.0</td>\n",
              "      <td>663313.0</td>\n",
              "      <td>676899.0</td>\n",
              "      <td>26510.80</td>\n",
              "      <td>27801.80</td>\n",
              "      <td>28718.40</td>\n",
              "      <td>29854.00</td>\n",
              "      <td>30642.00</td>\n",
              "      <td>31450.30</td>\n",
              "      <td>32163.80</td>\n",
              "      <td>32768.1</td>\n",
              "      <td>33643.10</td>\n",
              "      <td>34332.2</td>\n",
              "      <td>27550.300914</td>\n",
              "      <td>1.971611e+07</td>\n",
              "      <td>1.020482</td>\n",
              "    </tr>\n",
              "    <tr>\n",
              "      <th>3</th>\n",
              "      <td>1</td>\n",
              "      <td>POINT (681761.573 1198052.679)</td>\n",
              "      <td>10</td>\n",
              "      <td>Go Vap</td>\n",
              "      <td>764</td>\n",
              "      <td>District</td>\n",
              "      <td>522690.0</td>\n",
              "      <td>548145.0</td>\n",
              "      <td>566216.0</td>\n",
              "      <td>588606.0</td>\n",
              "      <td>604143.0</td>\n",
              "      <td>620078.0</td>\n",
              "      <td>634146.0</td>\n",
              "      <td>646060.0</td>\n",
              "      <td>663313.0</td>\n",
              "      <td>676899.0</td>\n",
              "      <td>26510.80</td>\n",
              "      <td>27801.80</td>\n",
              "      <td>28718.40</td>\n",
              "      <td>29854.00</td>\n",
              "      <td>30642.00</td>\n",
              "      <td>31450.30</td>\n",
              "      <td>32163.80</td>\n",
              "      <td>32768.1</td>\n",
              "      <td>33643.10</td>\n",
              "      <td>34332.2</td>\n",
              "      <td>27550.300914</td>\n",
              "      <td>1.971611e+07</td>\n",
              "      <td>1.020482</td>\n",
              "    </tr>\n",
              "    <tr>\n",
              "      <th>4</th>\n",
              "      <td>1</td>\n",
              "      <td>POINT (681442.508 1198483.069)</td>\n",
              "      <td>10</td>\n",
              "      <td>Go Vap</td>\n",
              "      <td>764</td>\n",
              "      <td>District</td>\n",
              "      <td>522690.0</td>\n",
              "      <td>548145.0</td>\n",
              "      <td>566216.0</td>\n",
              "      <td>588606.0</td>\n",
              "      <td>604143.0</td>\n",
              "      <td>620078.0</td>\n",
              "      <td>634146.0</td>\n",
              "      <td>646060.0</td>\n",
              "      <td>663313.0</td>\n",
              "      <td>676899.0</td>\n",
              "      <td>26510.80</td>\n",
              "      <td>27801.80</td>\n",
              "      <td>28718.40</td>\n",
              "      <td>29854.00</td>\n",
              "      <td>30642.00</td>\n",
              "      <td>31450.30</td>\n",
              "      <td>32163.80</td>\n",
              "      <td>32768.1</td>\n",
              "      <td>33643.10</td>\n",
              "      <td>34332.2</td>\n",
              "      <td>27550.300914</td>\n",
              "      <td>1.971611e+07</td>\n",
              "      <td>1.020482</td>\n",
              "    </tr>\n",
              "  </tbody>\n",
              "</table>\n",
              "</div>"
            ],
            "text/plain": [
              "   dbh                        geometry  ...    Shape_Area     Tocdo\n",
              "0    1  POINT (687074.226 1200044.747)  ...  4.775581e+07  1.092283\n",
              "1    1  POINT (687752.360 1188252.815)  ...  3.525220e+07  1.100641\n",
              "2    1  POINT (681813.990 1197998.313)  ...  1.971611e+07  1.020482\n",
              "3    1  POINT (681761.573 1198052.679)  ...  1.971611e+07  1.020482\n",
              "4    1  POINT (681442.508 1198483.069)  ...  1.971611e+07  1.020482\n",
              "\n",
              "[5 rows x 29 columns]"
            ]
          },
          "metadata": {},
          "execution_count": 67
        }
      ]
    },
    {
      "cell_type": "code",
      "metadata": {
        "colab": {
          "base_uri": "https://localhost:8080/",
          "height": 391
        },
        "id": "sxLiavYeRFgw",
        "outputId": "409cd888-12d4-4e62-d10c-e9811451797e"
      },
      "source": [
        "filter_click_lst = filter_click[filter_click.Dist_Name.isin(lst)]\n",
        "filter_click_lst.head()"
      ],
      "execution_count": 68,
      "outputs": [
        {
          "output_type": "execute_result",
          "data": {
            "text/html": [
              "<div>\n",
              "<style scoped>\n",
              "    .dataframe tbody tr th:only-of-type {\n",
              "        vertical-align: middle;\n",
              "    }\n",
              "\n",
              "    .dataframe tbody tr th {\n",
              "        vertical-align: top;\n",
              "    }\n",
              "\n",
              "    .dataframe thead th {\n",
              "        text-align: right;\n",
              "    }\n",
              "</style>\n",
              "<table border=\"1\" class=\"dataframe\">\n",
              "  <thead>\n",
              "    <tr style=\"text-align: right;\">\n",
              "      <th></th>\n",
              "      <th>dbh</th>\n",
              "      <th>geometry</th>\n",
              "      <th>index_right</th>\n",
              "      <th>Dist_Name</th>\n",
              "      <th>Dist_ID</th>\n",
              "      <th>Level</th>\n",
              "      <th>Pop_2009</th>\n",
              "      <th>Pop_2010</th>\n",
              "      <th>Pop_2011</th>\n",
              "      <th>Pop_2012</th>\n",
              "      <th>Pop_2013</th>\n",
              "      <th>Pop_2014</th>\n",
              "      <th>Pop_2015</th>\n",
              "      <th>Pop_2016</th>\n",
              "      <th>Pop_2017</th>\n",
              "      <th>Pop_2019</th>\n",
              "      <th>Den_2009</th>\n",
              "      <th>Den_2010</th>\n",
              "      <th>Den_2011</th>\n",
              "      <th>Den_2012</th>\n",
              "      <th>Den_2013</th>\n",
              "      <th>Den_2014</th>\n",
              "      <th>Den_2015</th>\n",
              "      <th>Den_2016</th>\n",
              "      <th>Den_2017</th>\n",
              "      <th>Den_2019</th>\n",
              "      <th>Shape_Leng</th>\n",
              "      <th>Shape_Area</th>\n",
              "      <th>Tocdo</th>\n",
              "    </tr>\n",
              "  </thead>\n",
              "  <tbody>\n",
              "    <tr>\n",
              "      <th>0</th>\n",
              "      <td>1</td>\n",
              "      <td>POINT (687074.226 1200044.747)</td>\n",
              "      <td>15</td>\n",
              "      <td>Thu Duc</td>\n",
              "      <td>762</td>\n",
              "      <td>District</td>\n",
              "      <td>442177.0</td>\n",
              "      <td>455899.0</td>\n",
              "      <td>478900.0</td>\n",
              "      <td>500850.0</td>\n",
              "      <td>507650.0</td>\n",
              "      <td>517772.0</td>\n",
              "      <td>528413.0</td>\n",
              "      <td>537050.0</td>\n",
              "      <td>542612.0</td>\n",
              "      <td>592686.0</td>\n",
              "      <td>9259.21</td>\n",
              "      <td>9546.55</td>\n",
              "      <td>10028.20</td>\n",
              "      <td>10487.80</td>\n",
              "      <td>10630.20</td>\n",
              "      <td>10842.20</td>\n",
              "      <td>11065.00</td>\n",
              "      <td>11245.9</td>\n",
              "      <td>11362.30</td>\n",
              "      <td>12410.9</td>\n",
              "      <td>52828.50143</td>\n",
              "      <td>4.775581e+07</td>\n",
              "      <td>1.092283</td>\n",
              "    </tr>\n",
              "    <tr>\n",
              "      <th>1</th>\n",
              "      <td>1</td>\n",
              "      <td>POINT (687752.360 1188252.815)</td>\n",
              "      <td>4</td>\n",
              "      <td>District 7</td>\n",
              "      <td>778</td>\n",
              "      <td>District</td>\n",
              "      <td>244276.0</td>\n",
              "      <td>274828.0</td>\n",
              "      <td>268483.0</td>\n",
              "      <td>266633.0</td>\n",
              "      <td>280743.0</td>\n",
              "      <td>296757.0</td>\n",
              "      <td>310178.0</td>\n",
              "      <td>317488.0</td>\n",
              "      <td>327223.0</td>\n",
              "      <td>360155.0</td>\n",
              "      <td>6929.39</td>\n",
              "      <td>7796.06</td>\n",
              "      <td>7616.07</td>\n",
              "      <td>7563.59</td>\n",
              "      <td>7963.85</td>\n",
              "      <td>8418.12</td>\n",
              "      <td>8798.84</td>\n",
              "      <td>9006.2</td>\n",
              "      <td>9282.35</td>\n",
              "      <td>10216.5</td>\n",
              "      <td>33260.91536</td>\n",
              "      <td>3.525220e+07</td>\n",
              "      <td>1.100641</td>\n",
              "    </tr>\n",
              "    <tr>\n",
              "      <th>5</th>\n",
              "      <td>1</td>\n",
              "      <td>POINT (691440.136 1200531.193)</td>\n",
              "      <td>15</td>\n",
              "      <td>Thu Duc</td>\n",
              "      <td>762</td>\n",
              "      <td>District</td>\n",
              "      <td>442177.0</td>\n",
              "      <td>455899.0</td>\n",
              "      <td>478900.0</td>\n",
              "      <td>500850.0</td>\n",
              "      <td>507650.0</td>\n",
              "      <td>517772.0</td>\n",
              "      <td>528413.0</td>\n",
              "      <td>537050.0</td>\n",
              "      <td>542612.0</td>\n",
              "      <td>592686.0</td>\n",
              "      <td>9259.21</td>\n",
              "      <td>9546.55</td>\n",
              "      <td>10028.20</td>\n",
              "      <td>10487.80</td>\n",
              "      <td>10630.20</td>\n",
              "      <td>10842.20</td>\n",
              "      <td>11065.00</td>\n",
              "      <td>11245.9</td>\n",
              "      <td>11362.30</td>\n",
              "      <td>12410.9</td>\n",
              "      <td>52828.50143</td>\n",
              "      <td>4.775581e+07</td>\n",
              "      <td>1.092283</td>\n",
              "    </tr>\n",
              "    <tr>\n",
              "      <th>8</th>\n",
              "      <td>1</td>\n",
              "      <td>POINT (689464.643 1188780.763)</td>\n",
              "      <td>4</td>\n",
              "      <td>District 7</td>\n",
              "      <td>778</td>\n",
              "      <td>District</td>\n",
              "      <td>244276.0</td>\n",
              "      <td>274828.0</td>\n",
              "      <td>268483.0</td>\n",
              "      <td>266633.0</td>\n",
              "      <td>280743.0</td>\n",
              "      <td>296757.0</td>\n",
              "      <td>310178.0</td>\n",
              "      <td>317488.0</td>\n",
              "      <td>327223.0</td>\n",
              "      <td>360155.0</td>\n",
              "      <td>6929.39</td>\n",
              "      <td>7796.06</td>\n",
              "      <td>7616.07</td>\n",
              "      <td>7563.59</td>\n",
              "      <td>7963.85</td>\n",
              "      <td>8418.12</td>\n",
              "      <td>8798.84</td>\n",
              "      <td>9006.2</td>\n",
              "      <td>9282.35</td>\n",
              "      <td>10216.5</td>\n",
              "      <td>33260.91536</td>\n",
              "      <td>3.525220e+07</td>\n",
              "      <td>1.100641</td>\n",
              "    </tr>\n",
              "    <tr>\n",
              "      <th>9</th>\n",
              "      <td>1</td>\n",
              "      <td>POINT (689796.719 1186376.959)</td>\n",
              "      <td>4</td>\n",
              "      <td>District 7</td>\n",
              "      <td>778</td>\n",
              "      <td>District</td>\n",
              "      <td>244276.0</td>\n",
              "      <td>274828.0</td>\n",
              "      <td>268483.0</td>\n",
              "      <td>266633.0</td>\n",
              "      <td>280743.0</td>\n",
              "      <td>296757.0</td>\n",
              "      <td>310178.0</td>\n",
              "      <td>317488.0</td>\n",
              "      <td>327223.0</td>\n",
              "      <td>360155.0</td>\n",
              "      <td>6929.39</td>\n",
              "      <td>7796.06</td>\n",
              "      <td>7616.07</td>\n",
              "      <td>7563.59</td>\n",
              "      <td>7963.85</td>\n",
              "      <td>8418.12</td>\n",
              "      <td>8798.84</td>\n",
              "      <td>9006.2</td>\n",
              "      <td>9282.35</td>\n",
              "      <td>10216.5</td>\n",
              "      <td>33260.91536</td>\n",
              "      <td>3.525220e+07</td>\n",
              "      <td>1.100641</td>\n",
              "    </tr>\n",
              "  </tbody>\n",
              "</table>\n",
              "</div>"
            ],
            "text/plain": [
              "   dbh                        geometry  ...    Shape_Area     Tocdo\n",
              "0    1  POINT (687074.226 1200044.747)  ...  4.775581e+07  1.092283\n",
              "1    1  POINT (687752.360 1188252.815)  ...  3.525220e+07  1.100641\n",
              "5    1  POINT (691440.136 1200531.193)  ...  4.775581e+07  1.092283\n",
              "8    1  POINT (689464.643 1188780.763)  ...  3.525220e+07  1.100641\n",
              "9    1  POINT (689796.719 1186376.959)  ...  3.525220e+07  1.100641\n",
              "\n",
              "[5 rows x 29 columns]"
            ]
          },
          "metadata": {},
          "execution_count": 68
        }
      ]
    },
    {
      "cell_type": "markdown",
      "metadata": {
        "id": "OccMBTbgbyfO"
      },
      "source": [
        " CHẠY THUẬT TOÁN GOM NHÓM K-MEANS VỚI K = 20"
      ]
    },
    {
      "cell_type": "code",
      "metadata": {
        "id": "ttV-kS7Xc9-X"
      },
      "source": [
        "#Convert\n",
        "lst_point = []\n",
        "for i in filter_click_lst[\"geometry\"]:\n",
        "  lst_point.append([i.x, i.y])"
      ],
      "execution_count": 86,
      "outputs": []
    },
    {
      "cell_type": "code",
      "metadata": {
        "id": "7hfFSWuidGA-"
      },
      "source": [
        "kmeans = KMeans(n_clusters=20, random_state=1).fit(lst_point)"
      ],
      "execution_count": 70,
      "outputs": []
    },
    {
      "cell_type": "code",
      "metadata": {
        "colab": {
          "base_uri": "https://localhost:8080/"
        },
        "id": "G5bmcD_xdgYI",
        "outputId": "34919a47-3589-4c11-ed02-7c0748518710"
      },
      "source": [
        "labels = kmeans.labels_\n",
        "print(labels)"
      ],
      "execution_count": 71,
      "outputs": [
        {
          "output_type": "stream",
          "name": "stdout",
          "text": [
            "[ 8 19  2 ... 19  2 11]\n"
          ]
        }
      ]
    },
    {
      "cell_type": "code",
      "metadata": {
        "colab": {
          "base_uri": "https://localhost:8080/"
        },
        "id": "c3IR-hoadimK",
        "outputId": "f4e2fa14-9871-4b80-f8c4-16bc55b5825d"
      },
      "source": [
        "unique, counts = np.unique(labels, return_counts=True)\n",
        "dict(zip(unique, counts))"
      ],
      "execution_count": 72,
      "outputs": [
        {
          "output_type": "execute_result",
          "data": {
            "text/plain": [
              "{0: 2804,\n",
              " 1: 2480,\n",
              " 2: 3934,\n",
              " 3: 61,\n",
              " 4: 6152,\n",
              " 5: 54,\n",
              " 6: 590,\n",
              " 7: 2601,\n",
              " 8: 980,\n",
              " 9: 4984,\n",
              " 10: 57,\n",
              " 11: 4474,\n",
              " 12: 2588,\n",
              " 13: 2737,\n",
              " 14: 44,\n",
              " 15: 18,\n",
              " 16: 2823,\n",
              " 17: 66,\n",
              " 18: 3307,\n",
              " 19: 4444}"
            ]
          },
          "metadata": {},
          "execution_count": 72
        }
      ]
    },
    {
      "cell_type": "markdown",
      "metadata": {
        "id": "8BLzPM9eerlg"
      },
      "source": [
        "LẤY RA CỤM ĐIỂM CLICK GOM NHÓM NHIỀU NHẤT CỦA MỖI QUẬN/HUYỆN"
      ]
    },
    {
      "cell_type": "code",
      "metadata": {
        "colab": {
          "base_uri": "https://localhost:8080/"
        },
        "id": "pyoUyJKQe3US",
        "outputId": "f8b58072-2584-4f71-d8c1-2703041ec5ca"
      },
      "source": [
        "unique, counts = np.unique(labels, return_counts=True)\n",
        "dic = dict(zip(unique, counts))\n",
        "print(dic)"
      ],
      "execution_count": 73,
      "outputs": [
        {
          "output_type": "stream",
          "name": "stdout",
          "text": [
            "{0: 2804, 1: 2480, 2: 3934, 3: 61, 4: 6152, 5: 54, 6: 590, 7: 2601, 8: 980, 9: 4984, 10: 57, 11: 4474, 12: 2588, 13: 2737, 14: 44, 15: 18, 16: 2823, 17: 66, 18: 3307, 19: 4444}\n"
          ]
        }
      ]
    },
    {
      "cell_type": "code",
      "metadata": {
        "colab": {
          "base_uri": "https://localhost:8080/"
        },
        "id": "m-3-294Gftwb",
        "outputId": "444ac761-29f3-4c1f-e9ab-96b394901d61"
      },
      "source": [
        "max_label = max(dic, key=dic.get)\n",
        "print(max_label)\n"
      ],
      "execution_count": 81,
      "outputs": [
        {
          "output_type": "stream",
          "name": "stdout",
          "text": [
            "4\n"
          ]
        }
      ]
    },
    {
      "cell_type": "code",
      "metadata": {
        "colab": {
          "base_uri": "https://localhost:8080/"
        },
        "id": "EuVsxNPhgOA1",
        "outputId": "a294356f-aad3-4236-f941-50706c1dea0c"
      },
      "source": [
        "len(labels)"
      ],
      "execution_count": 82,
      "outputs": [
        {
          "output_type": "execute_result",
          "data": {
            "text/plain": [
              "45198"
            ]
          },
          "metadata": {},
          "execution_count": 82
        }
      ]
    },
    {
      "cell_type": "code",
      "metadata": {
        "colab": {
          "base_uri": "https://localhost:8080/"
        },
        "id": "_q_Q96C0guwb",
        "outputId": "aa3bf027-8d3a-487b-f773-2953902f24e1"
      },
      "source": [
        "index_maxlabel = []\n",
        "for i in range(len(labels)):\n",
        "  if labels[i]==max_label:\n",
        "    index_maxlabel.append(i) \n",
        "print(index_maxlabel)"
      ],
      "execution_count": 84,
      "outputs": [
        {
          "output_type": "stream",
          "name": "stdout",
          "text": [
            "[13, 14, 22, 30, 44, 46, 53, 91, 96, 101, 122, 128, 137, 139, 140, 142, 152, 167, 174, 183, 185, 195, 202, 218, 225, 228, 233, 235, 236, 238, 242, 248, 253, 270, 280, 284, 285, 287, 297, 300, 304, 305, 306, 307, 309, 315, 316, 317, 328, 329, 345, 348, 351, 353, 361, 384, 386, 387, 402, 426, 433, 438, 445, 450, 454, 456, 457, 459, 496, 513, 519, 527, 537, 545, 554, 555, 571, 579, 580, 584, 593, 596, 604, 606, 627, 633, 645, 652, 653, 670, 684, 704, 709, 717, 719, 720, 722, 743, 745, 748, 749, 769, 770, 774, 785, 786, 800, 806, 811, 812, 817, 819, 828, 844, 855, 870, 876, 888, 900, 905, 908, 909, 911, 933, 934, 943, 950, 951, 952, 954, 968, 978, 993, 994, 1000, 1002, 1011, 1033, 1047, 1049, 1060, 1061, 1062, 1071, 1072, 1077, 1097, 1100, 1119, 1121, 1123, 1124, 1136, 1138, 1141, 1144, 1157, 1167, 1169, 1171, 1172, 1183, 1195, 1197, 1209, 1217, 1218, 1224, 1225, 1231, 1237, 1246, 1247, 1249, 1264, 1270, 1273, 1274, 1303, 1304, 1313, 1322, 1328, 1330, 1334, 1345, 1346, 1361, 1363, 1368, 1372, 1374, 1379, 1391, 1394, 1404, 1411, 1415, 1420, 1423, 1428, 1436, 1456, 1457, 1465, 1469, 1481, 1487, 1488, 1493, 1494, 1507, 1512, 1520, 1526, 1537, 1539, 1549, 1557, 1569, 1572, 1575, 1577, 1584, 1614, 1622, 1632, 1637, 1663, 1666, 1691, 1697, 1704, 1709, 1712, 1722, 1732, 1737, 1742, 1747, 1763, 1766, 1772, 1780, 1782, 1785, 1787, 1789, 1791, 1796, 1802, 1803, 1815, 1816, 1829, 1835, 1844, 1848, 1852, 1853, 1863, 1871, 1874, 1895, 1899, 1904, 1905, 1914, 1921, 1945, 1947, 1951, 1968, 1974, 1986, 1993, 1997, 2000, 2040, 2045, 2053, 2057, 2059, 2063, 2087, 2094, 2095, 2109, 2118, 2132, 2140, 2144, 2145, 2147, 2148, 2180, 2183, 2185, 2188, 2195, 2211, 2213, 2216, 2221, 2228, 2231, 2238, 2239, 2249, 2251, 2264, 2280, 2283, 2287, 2288, 2289, 2293, 2295, 2296, 2299, 2301, 2327, 2336, 2338, 2345, 2348, 2350, 2361, 2364, 2371, 2372, 2380, 2382, 2386, 2412, 2414, 2419, 2420, 2437, 2444, 2464, 2465, 2475, 2484, 2504, 2508, 2534, 2535, 2540, 2542, 2571, 2584, 2604, 2605, 2606, 2612, 2621, 2623, 2627, 2628, 2650, 2670, 2689, 2693, 2701, 2718, 2719, 2725, 2732, 2737, 2745, 2758, 2771, 2776, 2778, 2825, 2844, 2852, 2856, 2863, 2864, 2878, 2930, 2941, 2942, 2947, 2954, 2961, 2966, 2975, 3005, 3011, 3019, 3023, 3029, 3039, 3064, 3089, 3091, 3095, 3100, 3113, 3116, 3118, 3120, 3121, 3136, 3143, 3146, 3156, 3157, 3164, 3178, 3191, 3192, 3220, 3254, 3262, 3263, 3264, 3268, 3284, 3292, 3293, 3299, 3300, 3305, 3306, 3307, 3309, 3310, 3315, 3331, 3337, 3341, 3366, 3371, 3380, 3381, 3385, 3393, 3396, 3406, 3407, 3421, 3439, 3463, 3472, 3475, 3488, 3501, 3505, 3506, 3508, 3518, 3524, 3529, 3534, 3567, 3583, 3588, 3590, 3593, 3617, 3620, 3626, 3643, 3644, 3654, 3656, 3663, 3666, 3670, 3673, 3674, 3682, 3683, 3689, 3690, 3695, 3734, 3742, 3746, 3749, 3753, 3756, 3761, 3765, 3776, 3782, 3783, 3795, 3808, 3812, 3815, 3821, 3822, 3832, 3834, 3835, 3836, 3849, 3858, 3862, 3870, 3879, 3884, 3886, 3892, 3903, 3910, 3913, 3949, 3959, 3961, 3978, 4012, 4013, 4014, 4016, 4035, 4049, 4061, 4064, 4068, 4072, 4084, 4091, 4102, 4107, 4108, 4118, 4126, 4145, 4154, 4158, 4186, 4187, 4190, 4194, 4196, 4199, 4208, 4216, 4232, 4237, 4242, 4245, 4249, 4252, 4253, 4259, 4263, 4275, 4276, 4286, 4299, 4311, 4324, 4331, 4333, 4350, 4356, 4360, 4362, 4377, 4382, 4387, 4390, 4398, 4403, 4407, 4429, 4432, 4436, 4439, 4442, 4443, 4451, 4453, 4455, 4458, 4459, 4461, 4477, 4481, 4501, 4505, 4509, 4511, 4514, 4522, 4527, 4534, 4538, 4544, 4546, 4549, 4550, 4557, 4574, 4576, 4581, 4583, 4591, 4595, 4597, 4599, 4609, 4611, 4625, 4626, 4629, 4632, 4642, 4643, 4646, 4649, 4657, 4669, 4670, 4687, 4689, 4706, 4709, 4714, 4715, 4725, 4729, 4738, 4741, 4742, 4743, 4746, 4757, 4761, 4763, 4768, 4782, 4791, 4796, 4797, 4802, 4804, 4807, 4815, 4818, 4820, 4824, 4828, 4832, 4833, 4837, 4850, 4853, 4858, 4865, 4872, 4879, 4895, 4904, 4906, 4909, 4911, 4914, 4929, 4942, 4944, 4951, 4955, 4962, 4988, 4994, 5000, 5003, 5011, 5014, 5017, 5018, 5028, 5030, 5033, 5043, 5053, 5057, 5060, 5061, 5069, 5072, 5074, 5075, 5081, 5097, 5105, 5109, 5111, 5139, 5145, 5148, 5150, 5155, 5162, 5176, 5177, 5180, 5188, 5192, 5194, 5196, 5204, 5205, 5207, 5217, 5220, 5221, 5240, 5248, 5249, 5251, 5269, 5271, 5279, 5306, 5323, 5326, 5331, 5342, 5361, 5366, 5378, 5380, 5382, 5385, 5389, 5393, 5402, 5408, 5415, 5423, 5432, 5433, 5449, 5486, 5487, 5492, 5505, 5508, 5517, 5521, 5528, 5529, 5535, 5536, 5540, 5541, 5568, 5575, 5578, 5586, 5587, 5593, 5597, 5603, 5604, 5615, 5616, 5639, 5641, 5644, 5647, 5649, 5656, 5661, 5669, 5672, 5680, 5689, 5691, 5696, 5700, 5701, 5711, 5722, 5724, 5731, 5737, 5754, 5757, 5765, 5787, 5790, 5806, 5811, 5813, 5823, 5837, 5840, 5843, 5852, 5853, 5882, 5893, 5897, 5904, 5917, 5930, 5938, 5940, 5942, 5957, 5958, 5959, 5975, 5986, 5991, 5999, 6001, 6007, 6011, 6012, 6018, 6019, 6021, 6029, 6042, 6050, 6058, 6073, 6076, 6081, 6091, 6096, 6103, 6114, 6127, 6128, 6140, 6150, 6152, 6156, 6171, 6172, 6180, 6182, 6186, 6194, 6222, 6234, 6237, 6242, 6254, 6256, 6267, 6275, 6277, 6283, 6287, 6288, 6295, 6300, 6302, 6309, 6310, 6316, 6318, 6321, 6326, 6343, 6358, 6367, 6375, 6376, 6386, 6391, 6396, 6402, 6405, 6407, 6408, 6417, 6421, 6425, 6429, 6431, 6433, 6442, 6450, 6455, 6456, 6460, 6466, 6467, 6468, 6473, 6476, 6491, 6495, 6499, 6507, 6514, 6517, 6524, 6527, 6534, 6536, 6555, 6560, 6566, 6574, 6580, 6585, 6605, 6608, 6612, 6630, 6644, 6646, 6659, 6663, 6664, 6667, 6673, 6688, 6702, 6705, 6713, 6726, 6732, 6742, 6759, 6770, 6797, 6799, 6802, 6809, 6811, 6817, 6822, 6826, 6835, 6836, 6863, 6869, 6871, 6872, 6886, 6893, 6894, 6904, 6909, 6912, 6917, 6936, 6955, 6962, 6964, 6981, 6987, 6991, 7000, 7001, 7004, 7009, 7019, 7028, 7039, 7043, 7055, 7062, 7067, 7069, 7084, 7103, 7113, 7125, 7129, 7140, 7147, 7152, 7153, 7155, 7159, 7166, 7169, 7170, 7173, 7181, 7205, 7219, 7224, 7228, 7237, 7251, 7263, 7278, 7279, 7283, 7302, 7316, 7326, 7336, 7339, 7353, 7354, 7355, 7358, 7369, 7377, 7380, 7391, 7394, 7404, 7406, 7410, 7431, 7437, 7459, 7463, 7466, 7469, 7471, 7485, 7504, 7508, 7512, 7530, 7533, 7538, 7547, 7571, 7572, 7575, 7582, 7590, 7597, 7599, 7604, 7608, 7613, 7619, 7621, 7625, 7643, 7658, 7660, 7684, 7687, 7689, 7694, 7701, 7702, 7726, 7728, 7733, 7735, 7745, 7753, 7760, 7765, 7766, 7792, 7803, 7811, 7824, 7829, 7842, 7844, 7847, 7851, 7858, 7859, 7868, 7877, 7883, 7889, 7905, 7911, 7918, 7919, 7926, 7931, 7939, 7940, 7948, 7960, 7963, 7974, 7995, 7999, 8000, 8003, 8013, 8023, 8031, 8035, 8049, 8059, 8066, 8067, 8070, 8081, 8086, 8099, 8101, 8106, 8120, 8122, 8145, 8149, 8157, 8164, 8169, 8183, 8192, 8203, 8213, 8220, 8222, 8223, 8227, 8229, 8230, 8233, 8234, 8237, 8240, 8242, 8247, 8255, 8256, 8274, 8277, 8289, 8292, 8314, 8322, 8323, 8334, 8346, 8347, 8354, 8361, 8367, 8376, 8377, 8391, 8392, 8400, 8401, 8416, 8428, 8429, 8468, 8474, 8477, 8480, 8490, 8491, 8512, 8516, 8538, 8543, 8544, 8548, 8552, 8560, 8561, 8573, 8581, 8583, 8601, 8604, 8613, 8620, 8623, 8624, 8633, 8638, 8640, 8641, 8642, 8643, 8645, 8647, 8657, 8660, 8667, 8681, 8684, 8688, 8694, 8698, 8699, 8702, 8704, 8706, 8726, 8736, 8750, 8754, 8757, 8767, 8789, 8813, 8815, 8817, 8822, 8828, 8831, 8839, 8841, 8844, 8855, 8861, 8871, 8872, 8877, 8879, 8894, 8918, 8946, 8947, 8949, 8958, 8964, 8969, 8977, 8980, 8999, 9005, 9021, 9022, 9025, 9031, 9038, 9039, 9057, 9110, 9112, 9113, 9122, 9129, 9132, 9137, 9142, 9143, 9148, 9149, 9169, 9175, 9198, 9200, 9205, 9206, 9209, 9217, 9219, 9226, 9229, 9230, 9237, 9245, 9262, 9276, 9277, 9284, 9291, 9301, 9308, 9333, 9339, 9340, 9353, 9354, 9357, 9386, 9394, 9397, 9400, 9407, 9410, 9414, 9423, 9424, 9452, 9457, 9458, 9459, 9464, 9474, 9478, 9481, 9484, 9495, 9498, 9507, 9515, 9517, 9527, 9528, 9540, 9558, 9560, 9563, 9570, 9575, 9590, 9602, 9610, 9618, 9620, 9624, 9629, 9651, 9658, 9661, 9667, 9668, 9674, 9687, 9706, 9707, 9708, 9709, 9710, 9715, 9717, 9721, 9739, 9740, 9766, 9784, 9785, 9789, 9792, 9810, 9813, 9814, 9815, 9827, 9832, 9848, 9851, 9859, 9865, 9871, 9875, 9916, 9917, 9919, 9922, 9933, 9943, 9948, 9953, 9963, 9969, 9979, 9987, 10004, 10006, 10009, 10015, 10020, 10024, 10025, 10045, 10055, 10093, 10107, 10108, 10114, 10116, 10125, 10129, 10132, 10136, 10149, 10151, 10166, 10170, 10174, 10176, 10177, 10184, 10188, 10197, 10201, 10224, 10254, 10255, 10267, 10268, 10270, 10273, 10279, 10287, 10296, 10303, 10306, 10317, 10331, 10335, 10338, 10350, 10355, 10360, 10361, 10374, 10377, 10393, 10409, 10420, 10424, 10428, 10439, 10453, 10458, 10461, 10465, 10466, 10474, 10478, 10479, 10480, 10482, 10486, 10490, 10492, 10494, 10499, 10500, 10513, 10514, 10535, 10544, 10547, 10550, 10568, 10569, 10587, 10599, 10600, 10608, 10611, 10621, 10633, 10635, 10640, 10643, 10653, 10666, 10676, 10685, 10686, 10687, 10688, 10695, 10707, 10712, 10728, 10732, 10735, 10743, 10748, 10757, 10770, 10780, 10800, 10803, 10806, 10816, 10819, 10835, 10857, 10858, 10859, 10870, 10874, 10875, 10881, 10884, 10890, 10895, 10899, 10903, 10924, 10937, 10944, 10948, 10949, 10951, 10965, 10970, 10972, 10994, 10995, 11004, 11012, 11026, 11032, 11038, 11044, 11046, 11048, 11054, 11063, 11065, 11067, 11070, 11072, 11074, 11085, 11120, 11125, 11137, 11143, 11145, 11155, 11161, 11168, 11171, 11200, 11204, 11210, 11211, 11215, 11219, 11223, 11228, 11230, 11245, 11252, 11253, 11254, 11255, 11278, 11282, 11289, 11290, 11291, 11306, 11307, 11320, 11322, 11336, 11366, 11367, 11369, 11375, 11377, 11387, 11417, 11419, 11425, 11428, 11429, 11433, 11438, 11443, 11446, 11463, 11466, 11472, 11473, 11478, 11484, 11495, 11508, 11516, 11519, 11521, 11526, 11547, 11553, 11554, 11556, 11574, 11576, 11594, 11596, 11603, 11606, 11635, 11639, 11643, 11663, 11669, 11675, 11684, 11685, 11687, 11688, 11689, 11698, 11704, 11710, 11729, 11745, 11765, 11770, 11771, 11778, 11790, 11791, 11795, 11804, 11814, 11821, 11823, 11824, 11831, 11842, 11846, 11847, 11848, 11861, 11871, 11886, 11918, 11920, 11924, 11927, 11928, 11931, 11934, 11942, 11951, 11955, 11963, 11969, 12020, 12025, 12030, 12033, 12036, 12047, 12052, 12053, 12056, 12075, 12078, 12083, 12103, 12116, 12122, 12123, 12127, 12132, 12135, 12139, 12161, 12175, 12186, 12187, 12208, 12229, 12230, 12237, 12238, 12242, 12255, 12259, 12260, 12271, 12287, 12292, 12293, 12306, 12311, 12313, 12328, 12333, 12345, 12362, 12363, 12373, 12383, 12397, 12411, 12417, 12419, 12441, 12447, 12461, 12463, 12468, 12471, 12478, 12480, 12485, 12492, 12500, 12505, 12519, 12529, 12541, 12542, 12547, 12548, 12550, 12558, 12559, 12573, 12580, 12583, 12587, 12603, 12609, 12618, 12621, 12622, 12625, 12646, 12653, 12657, 12672, 12676, 12678, 12724, 12742, 12744, 12745, 12748, 12764, 12778, 12783, 12790, 12797, 12804, 12805, 12813, 12827, 12835, 12836, 12842, 12851, 12852, 12854, 12863, 12880, 12890, 12898, 12917, 12918, 12920, 12924, 12925, 12929, 12931, 12939, 12952, 12956, 12957, 12963, 12964, 12968, 12973, 12995, 13000, 13013, 13032, 13039, 13054, 13055, 13058, 13067, 13081, 13096, 13109, 13110, 13121, 13128, 13154, 13174, 13176, 13182, 13191, 13199, 13206, 13211, 13222, 13224, 13227, 13238, 13239, 13247, 13254, 13256, 13276, 13297, 13307, 13311, 13317, 13324, 13326, 13328, 13340, 13352, 13364, 13380, 13390, 13394, 13397, 13400, 13403, 13406, 13407, 13419, 13432, 13439, 13444, 13445, 13451, 13462, 13466, 13469, 13483, 13489, 13499, 13500, 13501, 13509, 13512, 13527, 13540, 13542, 13545, 13549, 13552, 13553, 13558, 13560, 13572, 13578, 13598, 13604, 13614, 13621, 13626, 13630, 13636, 13640, 13652, 13659, 13660, 13675, 13676, 13679, 13689, 13703, 13711, 13717, 13720, 13727, 13735, 13738, 13753, 13773, 13780, 13781, 13782, 13783, 13787, 13798, 13801, 13802, 13808, 13835, 13842, 13848, 13856, 13861, 13865, 13871, 13872, 13874, 13908, 13909, 13912, 13921, 13924, 13929, 13937, 13956, 13958, 13969, 13975, 13983, 13984, 13987, 13988, 13997, 14003, 14004, 14005, 14020, 14023, 14029, 14034, 14041, 14050, 14054, 14063, 14076, 14083, 14096, 14106, 14142, 14143, 14145, 14147, 14152, 14153, 14156, 14159, 14164, 14180, 14181, 14189, 14218, 14222, 14223, 14227, 14234, 14235, 14237, 14239, 14241, 14246, 14250, 14256, 14257, 14299, 14308, 14309, 14312, 14330, 14334, 14355, 14358, 14364, 14369, 14370, 14375, 14381, 14385, 14392, 14400, 14408, 14410, 14418, 14423, 14424, 14431, 14448, 14450, 14455, 14467, 14481, 14491, 14492, 14503, 14505, 14512, 14518, 14526, 14535, 14541, 14566, 14576, 14581, 14587, 14600, 14611, 14623, 14643, 14644, 14656, 14668, 14674, 14680, 14681, 14693, 14728, 14733, 14735, 14756, 14761, 14762, 14772, 14778, 14779, 14780, 14785, 14790, 14793, 14822, 14829, 14831, 14845, 14852, 14864, 14874, 14876, 14877, 14893, 14895, 14901, 14915, 14938, 14942, 14944, 14948, 14954, 14961, 14966, 14970, 14985, 14987, 15033, 15040, 15043, 15063, 15064, 15077, 15092, 15102, 15103, 15105, 15116, 15122, 15133, 15136, 15147, 15148, 15154, 15155, 15157, 15162, 15172, 15173, 15177, 15178, 15195, 15211, 15213, 15215, 15222, 15223, 15225, 15226, 15243, 15246, 15249, 15251, 15272, 15277, 15278, 15287, 15302, 15304, 15305, 15330, 15336, 15345, 15347, 15360, 15367, 15375, 15393, 15417, 15424, 15457, 15464, 15483, 15489, 15495, 15501, 15516, 15527, 15532, 15547, 15565, 15566, 15571, 15584, 15597, 15602, 15603, 15608, 15609, 15615, 15616, 15624, 15629, 15638, 15639, 15641, 15645, 15647, 15656, 15664, 15667, 15669, 15691, 15711, 15714, 15723, 15733, 15740, 15745, 15746, 15749, 15772, 15774, 15775, 15782, 15784, 15788, 15792, 15798, 15799, 15801, 15815, 15820, 15832, 15833, 15846, 15853, 15868, 15871, 15878, 15880, 15896, 15909, 15917, 15927, 15934, 15957, 15961, 15965, 15968, 15972, 15980, 16017, 16018, 16035, 16036, 16037, 16040, 16062, 16070, 16074, 16078, 16083, 16094, 16107, 16114, 16115, 16137, 16148, 16152, 16158, 16164, 16166, 16168, 16170, 16179, 16184, 16205, 16207, 16208, 16226, 16233, 16236, 16238, 16244, 16245, 16250, 16251, 16254, 16262, 16266, 16273, 16283, 16285, 16286, 16303, 16304, 16315, 16337, 16338, 16344, 16363, 16368, 16372, 16380, 16421, 16435, 16459, 16462, 16465, 16475, 16483, 16487, 16495, 16498, 16501, 16507, 16509, 16541, 16543, 16544, 16560, 16591, 16600, 16601, 16606, 16608, 16614, 16618, 16621, 16629, 16634, 16638, 16650, 16653, 16658, 16660, 16665, 16672, 16674, 16680, 16681, 16687, 16701, 16707, 16710, 16711, 16712, 16714, 16717, 16718, 16720, 16724, 16726, 16733, 16735, 16742, 16744, 16751, 16752, 16754, 16757, 16761, 16764, 16765, 16807, 16808, 16819, 16834, 16835, 16854, 16869, 16875, 16887, 16896, 16900, 16901, 16908, 16925, 16926, 16928, 16930, 16936, 16939, 16948, 16952, 16953, 16957, 16971, 16972, 16973, 16979, 16984, 16986, 16989, 16992, 16993, 16998, 17001, 17004, 17009, 17013, 17019, 17021, 17029, 17034, 17037, 17044, 17045, 17050, 17055, 17061, 17062, 17063, 17064, 17066, 17070, 17071, 17076, 17077, 17078, 17082, 17087, 17100, 17102, 17107, 17121, 17125, 17127, 17135, 17139, 17148, 17159, 17164, 17174, 17223, 17231, 17236, 17256, 17268, 17279, 17297, 17301, 17322, 17328, 17330, 17333, 17335, 17336, 17348, 17371, 17387, 17391, 17394, 17423, 17452, 17455, 17456, 17460, 17467, 17470, 17473, 17474, 17480, 17482, 17486, 17496, 17501, 17508, 17515, 17516, 17525, 17528, 17577, 17589, 17606, 17631, 17632, 17637, 17646, 17648, 17649, 17651, 17653, 17659, 17668, 17670, 17676, 17677, 17692, 17695, 17696, 17708, 17724, 17734, 17738, 17749, 17751, 17757, 17765, 17775, 17776, 17778, 17779, 17784, 17787, 17789, 17792, 17798, 17804, 17809, 17812, 17815, 17824, 17826, 17828, 17832, 17848, 17862, 17869, 17886, 17887, 17889, 17895, 17899, 17903, 17918, 17919, 17934, 17944, 17945, 17947, 17954, 17959, 17960, 17967, 17973, 17996, 18003, 18013, 18026, 18031, 18038, 18040, 18042, 18061, 18063, 18064, 18065, 18068, 18072, 18075, 18082, 18087, 18089, 18091, 18100, 18111, 18113, 18126, 18136, 18139, 18141, 18148, 18153, 18157, 18164, 18176, 18185, 18186, 18192, 18199, 18204, 18214, 18226, 18228, 18244, 18250, 18252, 18254, 18255, 18260, 18262, 18271, 18275, 18281, 18292, 18297, 18303, 18307, 18338, 18339, 18342, 18349, 18358, 18363, 18377, 18381, 18399, 18410, 18415, 18416, 18427, 18436, 18442, 18463, 18477, 18482, 18494, 18518, 18519, 18535, 18536, 18537, 18555, 18562, 18568, 18574, 18578, 18583, 18588, 18597, 18602, 18604, 18631, 18637, 18640, 18642, 18652, 18672, 18673, 18685, 18691, 18698, 18704, 18716, 18718, 18722, 18726, 18739, 18744, 18750, 18752, 18762, 18774, 18777, 18778, 18781, 18791, 18794, 18797, 18805, 18821, 18824, 18832, 18837, 18840, 18851, 18868, 18870, 18871, 18877, 18878, 18886, 18895, 18898, 18921, 18931, 18932, 18940, 18948, 18955, 18977, 18980, 18983, 19004, 19012, 19014, 19016, 19031, 19039, 19040, 19042, 19044, 19052, 19073, 19096, 19099, 19107, 19125, 19128, 19139, 19140, 19153, 19155, 19163, 19169, 19179, 19202, 19216, 19222, 19231, 19236, 19243, 19247, 19261, 19262, 19274, 19282, 19311, 19314, 19328, 19335, 19353, 19356, 19369, 19374, 19376, 19383, 19391, 19394, 19397, 19410, 19427, 19434, 19437, 19444, 19448, 19470, 19476, 19480, 19486, 19509, 19519, 19522, 19523, 19536, 19538, 19546, 19553, 19562, 19564, 19572, 19577, 19580, 19594, 19595, 19598, 19599, 19602, 19603, 19606, 19608, 19614, 19616, 19620, 19629, 19638, 19643, 19658, 19661, 19678, 19681, 19683, 19700, 19712, 19725, 19726, 19728, 19732, 19745, 19759, 19769, 19770, 19777, 19786, 19787, 19792, 19800, 19808, 19809, 19816, 19821, 19825, 19842, 19845, 19890, 19901, 19924, 19930, 19937, 19947, 19964, 19966, 19967, 19977, 20000, 20018, 20020, 20037, 20072, 20085, 20090, 20096, 20108, 20109, 20117, 20122, 20123, 20154, 20160, 20162, 20166, 20177, 20187, 20195, 20215, 20239, 20243, 20264, 20265, 20290, 20293, 20295, 20297, 20308, 20319, 20329, 20348, 20352, 20356, 20368, 20373, 20374, 20386, 20407, 20409, 20422, 20427, 20428, 20433, 20462, 20464, 20468, 20469, 20475, 20478, 20480, 20485, 20491, 20492, 20512, 20515, 20521, 20523, 20533, 20546, 20549, 20570, 20577, 20584, 20588, 20589, 20600, 20618, 20626, 20631, 20636, 20644, 20647, 20649, 20651, 20652, 20653, 20655, 20656, 20673, 20684, 20686, 20700, 20706, 20714, 20728, 20730, 20734, 20739, 20746, 20749, 20757, 20759, 20762, 20763, 20764, 20766, 20768, 20771, 20774, 20782, 20784, 20790, 20793, 20794, 20795, 20805, 20826, 20839, 20850, 20871, 20889, 20909, 20911, 20913, 20920, 20926, 20927, 20930, 20934, 20946, 20949, 20950, 20974, 20978, 20980, 20996, 20998, 21002, 21007, 21017, 21018, 21036, 21041, 21042, 21048, 21052, 21062, 21088, 21090, 21101, 21102, 21120, 21147, 21148, 21158, 21159, 21161, 21169, 21177, 21181, 21182, 21184, 21186, 21188, 21211, 21216, 21217, 21218, 21224, 21246, 21252, 21256, 21267, 21271, 21280, 21286, 21297, 21300, 21310, 21325, 21328, 21337, 21340, 21344, 21349, 21352, 21364, 21375, 21377, 21394, 21420, 21429, 21434, 21438, 21444, 21465, 21483, 21501, 21505, 21522, 21530, 21531, 21538, 21539, 21546, 21552, 21569, 21571, 21598, 21599, 21615, 21639, 21652, 21656, 21658, 21659, 21660, 21670, 21680, 21704, 21705, 21709, 21714, 21715, 21719, 21729, 21737, 21740, 21744, 21749, 21763, 21768, 21770, 21774, 21775, 21779, 21781, 21782, 21784, 21795, 21802, 21812, 21819, 21820, 21824, 21827, 21828, 21839, 21845, 21849, 21856, 21865, 21917, 21936, 21942, 21956, 21966, 21974, 21983, 21993, 21996, 22001, 22024, 22028, 22032, 22040, 22050, 22055, 22061, 22068, 22069, 22079, 22085, 22098, 22121, 22134, 22136, 22161, 22167, 22173, 22178, 22188, 22191, 22200, 22208, 22209, 22215, 22222, 22240, 22249, 22260, 22269, 22287, 22309, 22320, 22327, 22328, 22329, 22335, 22345, 22371, 22389, 22405, 22410, 22413, 22415, 22417, 22419, 22441, 22463, 22464, 22468, 22488, 22505, 22515, 22521, 22528, 22537, 22541, 22552, 22555, 22571, 22587, 22590, 22598, 22600, 22601, 22613, 22617, 22624, 22629, 22630, 22631, 22649, 22650, 22668, 22670, 22684, 22690, 22694, 22698, 22713, 22720, 22725, 22749, 22751, 22753, 22763, 22767, 22772, 22776, 22784, 22788, 22792, 22798, 22802, 22810, 22812, 22822, 22831, 22832, 22838, 22856, 22857, 22862, 22865, 22876, 22877, 22878, 22888, 22891, 22895, 22898, 22918, 22923, 22926, 22930, 22931, 22946, 22950, 22955, 22961, 22962, 22976, 22980, 22981, 22990, 22991, 22996, 23000, 23006, 23007, 23010, 23017, 23018, 23020, 23029, 23034, 23035, 23037, 23042, 23047, 23056, 23065, 23066, 23093, 23104, 23117, 23124, 23153, 23156, 23157, 23167, 23170, 23186, 23190, 23194, 23198, 23204, 23220, 23237, 23243, 23251, 23272, 23275, 23281, 23282, 23297, 23299, 23307, 23313, 23324, 23328, 23341, 23342, 23344, 23353, 23355, 23369, 23374, 23382, 23386, 23394, 23407, 23414, 23420, 23423, 23438, 23439, 23445, 23463, 23465, 23480, 23483, 23490, 23506, 23524, 23529, 23544, 23545, 23549, 23578, 23579, 23586, 23592, 23601, 23611, 23619, 23624, 23634, 23662, 23666, 23678, 23681, 23717, 23719, 23736, 23737, 23744, 23752, 23764, 23783, 23792, 23810, 23823, 23832, 23835, 23854, 23856, 23867, 23870, 23875, 23889, 23898, 23901, 23907, 23909, 23910, 23920, 23927, 23932, 23953, 23958, 23962, 23965, 23971, 23976, 23977, 23993, 24022, 24027, 24030, 24031, 24037, 24045, 24046, 24048, 24049, 24054, 24055, 24066, 24076, 24086, 24087, 24091, 24092, 24098, 24105, 24109, 24118, 24121, 24124, 24125, 24127, 24132, 24135, 24142, 24146, 24147, 24152, 24160, 24175, 24176, 24178, 24180, 24189, 24190, 24193, 24194, 24198, 24199, 24206, 24237, 24243, 24247, 24248, 24249, 24251, 24252, 24262, 24266, 24269, 24271, 24283, 24284, 24285, 24292, 24293, 24306, 24313, 24327, 24332, 24335, 24338, 24339, 24343, 24344, 24346, 24348, 24350, 24353, 24355, 24356, 24374, 24377, 24378, 24383, 24392, 24394, 24397, 24412, 24413, 24420, 24426, 24434, 24436, 24438, 24444, 24445, 24448, 24449, 24459, 24460, 24461, 24468, 24476, 24492, 24494, 24497, 24500, 24503, 24508, 24509, 24515, 24535, 24536, 24545, 24549, 24560, 24571, 24579, 24583, 24584, 24588, 24597, 24637, 24659, 24661, 24678, 24682, 24683, 24685, 24696, 24700, 24701, 24704, 24725, 24726, 24727, 24730, 24743, 24750, 24752, 24758, 24768, 24771, 24777, 24779, 24782, 24805, 24807, 24811, 24813, 24824, 24833, 24839, 24842, 24844, 24859, 24861, 24864, 24869, 24877, 24934, 24935, 24936, 24937, 24941, 24943, 24947, 24948, 24949, 24975, 24981, 24989, 24991, 25005, 25011, 25025, 25037, 25044, 25068, 25079, 25095, 25103, 25108, 25109, 25118, 25122, 25129, 25134, 25144, 25156, 25169, 25172, 25175, 25176, 25185, 25188, 25205, 25209, 25210, 25215, 25219, 25220, 25223, 25226, 25229, 25230, 25238, 25249, 25264, 25269, 25276, 25281, 25288, 25290, 25296, 25302, 25303, 25304, 25311, 25315, 25321, 25324, 25334, 25345, 25359, 25360, 25363, 25370, 25376, 25378, 25382, 25391, 25392, 25395, 25401, 25402, 25420, 25429, 25431, 25439, 25442, 25445, 25450, 25454, 25462, 25472, 25479, 25503, 25508, 25519, 25525, 25541, 25572, 25592, 25596, 25603, 25605, 25611, 25612, 25635, 25636, 25641, 25644, 25645, 25648, 25649, 25656, 25659, 25660, 25714, 25715, 25719, 25726, 25727, 25731, 25733, 25747, 25756, 25764, 25769, 25781, 25783, 25784, 25796, 25798, 25799, 25806, 25813, 25816, 25842, 25844, 25858, 25860, 25877, 25879, 25889, 25892, 25898, 25913, 25920, 25921, 25930, 25935, 25936, 25937, 25957, 25969, 25993, 26001, 26007, 26017, 26019, 26021, 26030, 26038, 26040, 26056, 26059, 26060, 26078, 26102, 26105, 26120, 26123, 26163, 26171, 26175, 26179, 26180, 26183, 26209, 26216, 26219, 26221, 26242, 26246, 26252, 26269, 26277, 26283, 26290, 26293, 26294, 26331, 26340, 26350, 26351, 26373, 26374, 26391, 26397, 26415, 26423, 26426, 26446, 26454, 26457, 26465, 26469, 26470, 26484, 26488, 26494, 26510, 26515, 26518, 26550, 26557, 26561, 26563, 26566, 26569, 26574, 26580, 26584, 26593, 26605, 26627, 26637, 26643, 26646, 26656, 26669, 26671, 26672, 26673, 26678, 26682, 26688, 26704, 26705, 26709, 26714, 26718, 26731, 26734, 26764, 26775, 26780, 26783, 26796, 26798, 26799, 26800, 26803, 26812, 26817, 26820, 26830, 26832, 26834, 26844, 26855, 26859, 26867, 26869, 26878, 26887, 26889, 26898, 26904, 26915, 26922, 26935, 26936, 26938, 26946, 26975, 26984, 27009, 27011, 27023, 27024, 27052, 27054, 27058, 27063, 27077, 27079, 27085, 27090, 27102, 27103, 27110, 27119, 27129, 27132, 27139, 27147, 27161, 27173, 27181, 27194, 27195, 27200, 27203, 27205, 27222, 27240, 27244, 27250, 27251, 27270, 27271, 27274, 27286, 27287, 27295, 27297, 27312, 27317, 27330, 27342, 27344, 27348, 27350, 27351, 27355, 27360, 27362, 27364, 27379, 27394, 27400, 27404, 27405, 27408, 27410, 27414, 27422, 27425, 27433, 27444, 27447, 27454, 27458, 27462, 27468, 27476, 27478, 27485, 27490, 27499, 27502, 27508, 27511, 27518, 27524, 27540, 27550, 27554, 27556, 27559, 27561, 27563, 27570, 27574, 27589, 27598, 27606, 27610, 27623, 27647, 27651, 27666, 27670, 27673, 27676, 27678, 27696, 27697, 27699, 27706, 27709, 27712, 27716, 27719, 27722, 27728, 27738, 27739, 27750, 27752, 27756, 27757, 27783, 27787, 27788, 27792, 27798, 27799, 27801, 27820, 27825, 27828, 27832, 27835, 27849, 27857, 27862, 27866, 27879, 27880, 27891, 27895, 27901, 27915, 27920, 27923, 27925, 27933, 27934, 27938, 27942, 27943, 27954, 27964, 27985, 27987, 27998, 28001, 28006, 28008, 28013, 28017, 28019, 28029, 28037, 28043, 28046, 28048, 28050, 28055, 28059, 28076, 28083, 28087, 28109, 28120, 28128, 28132, 28133, 28138, 28147, 28151, 28159, 28165, 28166, 28170, 28190, 28192, 28194, 28213, 28220, 28228, 28231, 28249, 28251, 28256, 28259, 28264, 28270, 28277, 28278, 28282, 28287, 28298, 28304, 28308, 28322, 28333, 28336, 28349, 28355, 28357, 28358, 28364, 28370, 28371, 28377, 28378, 28387, 28392, 28395, 28432, 28438, 28442, 28451, 28453, 28454, 28458, 28464, 28483, 28489, 28491, 28492, 28499, 28521, 28530, 28533, 28543, 28544, 28555, 28575, 28587, 28590, 28592, 28616, 28619, 28625, 28641, 28642, 28645, 28665, 28667, 28680, 28681, 28687, 28691, 28692, 28714, 28715, 28716, 28723, 28727, 28742, 28743, 28744, 28754, 28758, 28774, 28777, 28780, 28788, 28790, 28801, 28815, 28819, 28823, 28842, 28871, 28875, 28877, 28885, 28887, 28892, 28894, 28899, 28909, 28923, 28951, 28955, 28971, 28977, 28983, 28989, 28994, 29000, 29003, 29006, 29015, 29022, 29025, 29033, 29068, 29084, 29096, 29098, 29099, 29101, 29102, 29103, 29106, 29112, 29122, 29123, 29125, 29132, 29140, 29144, 29148, 29149, 29180, 29184, 29192, 29193, 29204, 29205, 29219, 29226, 29228, 29232, 29237, 29244, 29263, 29267, 29277, 29278, 29284, 29295, 29325, 29328, 29336, 29340, 29360, 29377, 29381, 29383, 29385, 29397, 29408, 29409, 29414, 29433, 29441, 29445, 29450, 29453, 29456, 29457, 29467, 29472, 29476, 29479, 29505, 29511, 29517, 29526, 29528, 29531, 29537, 29538, 29552, 29554, 29558, 29566, 29570, 29572, 29573, 29575, 29576, 29577, 29579, 29585, 29593, 29596, 29605, 29608, 29612, 29621, 29624, 29625, 29633, 29654, 29658, 29661, 29670, 29679, 29683, 29686, 29688, 29695, 29713, 29719, 29726, 29737, 29747, 29757, 29760, 29763, 29766, 29767, 29769, 29772, 29776, 29780, 29783, 29785, 29788, 29792, 29797, 29803, 29823, 29831, 29834, 29839, 29847, 29848, 29855, 29871, 29873, 29875, 29877, 29882, 29910, 29912, 29913, 29928, 29929, 29933, 29935, 29937, 29952, 29954, 29956, 29964, 29965, 29972, 29994, 29996, 30000, 30007, 30014, 30038, 30041, 30044, 30050, 30067, 30069, 30073, 30098, 30104, 30109, 30115, 30118, 30121, 30128, 30132, 30147, 30152, 30161, 30174, 30175, 30179, 30183, 30184, 30190, 30201, 30216, 30230, 30232, 30245, 30246, 30255, 30257, 30264, 30265, 30268, 30274, 30276, 30282, 30285, 30290, 30291, 30294, 30301, 30309, 30311, 30314, 30323, 30325, 30331, 30336, 30342, 30345, 30347, 30364, 30365, 30366, 30373, 30379, 30386, 30390, 30395, 30402, 30404, 30405, 30410, 30411, 30437, 30452, 30456, 30457, 30460, 30462, 30472, 30479, 30490, 30493, 30495, 30499, 30500, 30501, 30525, 30526, 30529, 30534, 30541, 30546, 30553, 30566, 30569, 30570, 30573, 30578, 30593, 30600, 30601, 30604, 30605, 30609, 30611, 30623, 30627, 30630, 30631, 30646, 30650, 30651, 30653, 30673, 30677, 30683, 30691, 30698, 30702, 30708, 30713, 30720, 30723, 30728, 30733, 30736, 30737, 30743, 30809, 30810, 30814, 30823, 30828, 30839, 30845, 30847, 30852, 30859, 30862, 30863, 30866, 30870, 30877, 30879, 30895, 30902, 30917, 30919, 30920, 30941, 30947, 30951, 30973, 30977, 30989, 30992, 31002, 31012, 31015, 31025, 31032, 31038, 31051, 31057, 31064, 31077, 31078, 31085, 31097, 31105, 31109, 31110, 31111, 31112, 31116, 31132, 31163, 31183, 31184, 31189, 31196, 31204, 31230, 31251, 31252, 31267, 31271, 31274, 31277, 31281, 31282, 31291, 31293, 31308, 31311, 31313, 31315, 31316, 31318, 31332, 31335, 31357, 31364, 31369, 31378, 31393, 31397, 31408, 31421, 31423, 31428, 31433, 31439, 31441, 31449, 31450, 31452, 31456, 31465, 31489, 31493, 31496, 31517, 31531, 31536, 31542, 31548, 31558, 31570, 31573, 31578, 31584, 31606, 31611, 31612, 31621, 31632, 31637, 31640, 31641, 31647, 31662, 31664, 31669, 31671, 31703, 31705, 31710, 31711, 31718, 31719, 31730, 31740, 31742, 31744, 31747, 31752, 31758, 31765, 31766, 31780, 31784, 31789, 31794, 31801, 31808, 31809, 31812, 31816, 31817, 31821, 31824, 31826, 31838, 31846, 31854, 31860, 31867, 31874, 31875, 31883, 31889, 31898, 31905, 31918, 31924, 31931, 31937, 31942, 31955, 31962, 31964, 31965, 31966, 31977, 31987, 32028, 32053, 32075, 32077, 32081, 32084, 32085, 32090, 32094, 32117, 32118, 32121, 32132, 32135, 32163, 32170, 32197, 32198, 32200, 32201, 32203, 32207, 32212, 32213, 32218, 32224, 32226, 32227, 32232, 32262, 32265, 32270, 32278, 32287, 32296, 32300, 32301, 32308, 32310, 32313, 32328, 32374, 32408, 32426, 32428, 32449, 32458, 32466, 32473, 32483, 32485, 32505, 32521, 32535, 32536, 32539, 32544, 32546, 32555, 32572, 32578, 32587, 32596, 32597, 32610, 32613, 32615, 32655, 32662, 32663, 32670, 32672, 32679, 32680, 32684, 32705, 32710, 32716, 32720, 32726, 32730, 32737, 32740, 32746, 32747, 32754, 32760, 32766, 32771, 32779, 32782, 32789, 32791, 32802, 32805, 32811, 32818, 32820, 32823, 32826, 32850, 32853, 32860, 32868, 32870, 32872, 32880, 32887, 32901, 32906, 32907, 32911, 32914, 32917, 32922, 32931, 32936, 32942, 32946, 32958, 32959, 32962, 32964, 32966, 32968, 32974, 32981, 32997, 33004, 33010, 33011, 33019, 33037, 33049, 33052, 33057, 33064, 33066, 33068, 33070, 33079, 33093, 33094, 33098, 33101, 33102, 33106, 33118, 33119, 33127, 33134, 33135, 33139, 33141, 33147, 33156, 33159, 33165, 33191, 33195, 33205, 33215, 33226, 33229, 33242, 33246, 33247, 33251, 33256, 33264, 33272, 33292, 33310, 33313, 33316, 33319, 33320, 33329, 33330, 33335, 33336, 33351, 33356, 33364, 33365, 33372, 33380, 33392, 33409, 33426, 33431, 33439, 33449, 33456, 33457, 33464, 33469, 33473, 33480, 33481, 33483, 33489, 33493, 33497, 33508, 33524, 33529, 33540, 33544, 33546, 33549, 33550, 33552, 33562, 33570, 33572, 33575, 33580, 33582, 33600, 33601, 33603, 33607, 33609, 33627, 33632, 33660, 33666, 33667, 33669, 33677, 33695, 33699, 33704, 33710, 33735, 33745, 33749, 33759, 33763, 33774, 33781, 33810, 33811, 33818, 33823, 33828, 33831, 33834, 33844, 33846, 33847, 33850, 33869, 33872, 33879, 33883, 33888, 33890, 33893, 33934, 33954, 33955, 33974, 33975, 33980, 33989, 34003, 34006, 34015, 34023, 34039, 34055, 34061, 34069, 34077, 34079, 34081, 34085, 34091, 34095, 34098, 34099, 34101, 34116, 34120, 34122, 34123, 34125, 34130, 34137, 34147, 34157, 34162, 34164, 34179, 34184, 34201, 34219, 34220, 34221, 34222, 34230, 34231, 34237, 34241, 34248, 34249, 34270, 34278, 34289, 34315, 34326, 34340, 34343, 34346, 34347, 34358, 34359, 34364, 34380, 34403, 34421, 34425, 34430, 34444, 34453, 34459, 34465, 34467, 34471, 34473, 34498, 34507, 34515, 34525, 34542, 34550, 34554, 34562, 34563, 34566, 34567, 34581, 34592, 34596, 34604, 34615, 34622, 34623, 34628, 34641, 34644, 34665, 34674, 34684, 34704, 34705, 34707, 34713, 34715, 34718, 34723, 34747, 34748, 34750, 34752, 34759, 34761, 34768, 34769, 34777, 34782, 34785, 34786, 34794, 34804, 34806, 34815, 34818, 34819, 34820, 34822, 34837, 34848, 34855, 34862, 34880, 34901, 34906, 34922, 34931, 34936, 34947, 34949, 34954, 34959, 34963, 34965, 34968, 34973, 34976, 34978, 34979, 34982, 34988, 34994, 34999, 35005, 35020, 35022, 35023, 35039, 35041, 35048, 35058, 35059, 35065, 35074, 35084, 35085, 35088, 35089, 35122, 35123, 35127, 35128, 35135, 35137, 35145, 35146, 35163, 35166, 35169, 35185, 35200, 35205, 35206, 35223, 35225, 35226, 35232, 35240, 35245, 35246, 35250, 35278, 35279, 35280, 35285, 35286, 35304, 35311, 35316, 35323, 35325, 35326, 35344, 35346, 35352, 35372, 35392, 35396, 35411, 35418, 35421, 35423, 35428, 35443, 35445, 35448, 35450, 35460, 35463, 35466, 35467, 35476, 35478, 35482, 35489, 35490, 35492, 35511, 35513, 35514, 35516, 35520, 35525, 35529, 35530, 35540, 35541, 35546, 35575, 35576, 35591, 35592, 35598, 35604, 35605, 35610, 35613, 35622, 35629, 35633, 35635, 35654, 35655, 35669, 35670, 35686, 35696, 35698, 35702, 35704, 35713, 35721, 35745, 35754, 35756, 35760, 35769, 35770, 35788, 35791, 35795, 35826, 35831, 35841, 35857, 35858, 35866, 35878, 35880, 35884, 35885, 35907, 35913, 35914, 35919, 35921, 35928, 35935, 35946, 35948, 35950, 35971, 35972, 35977, 35979, 35988, 35993, 36009, 36018, 36029, 36045, 36053, 36058, 36060, 36061, 36073, 36076, 36080, 36083, 36087, 36088, 36098, 36101, 36102, 36107, 36111, 36113, 36127, 36130, 36139, 36140, 36144, 36153, 36164, 36165, 36180, 36182, 36183, 36194, 36206, 36208, 36209, 36212, 36227, 36228, 36241, 36245, 36249, 36254, 36264, 36266, 36269, 36272, 36276, 36282, 36292, 36301, 36304, 36308, 36311, 36322, 36332, 36333, 36353, 36356, 36369, 36375, 36383, 36385, 36386, 36387, 36393, 36405, 36409, 36412, 36429, 36451, 36455, 36463, 36465, 36469, 36484, 36487, 36498, 36501, 36510, 36520, 36522, 36524, 36528, 36530, 36534, 36536, 36541, 36545, 36553, 36559, 36563, 36574, 36578, 36579, 36587, 36590, 36602, 36616, 36622, 36624, 36632, 36634, 36671, 36675, 36677, 36678, 36705, 36712, 36715, 36727, 36736, 36746, 36749, 36752, 36755, 36763, 36773, 36791, 36792, 36794, 36812, 36815, 36828, 36832, 36833, 36840, 36846, 36855, 36861, 36882, 36885, 36888, 36899, 36902, 36908, 36910, 36915, 36928, 36931, 36943, 36972, 36981, 36985, 36991, 36993, 36996, 37000, 37009, 37013, 37015, 37017, 37022, 37030, 37034, 37044, 37048, 37057, 37059, 37062, 37065, 37070, 37073, 37085, 37088, 37111, 37119, 37126, 37130, 37134, 37141, 37142, 37145, 37152, 37159, 37186, 37188, 37195, 37197, 37198, 37200, 37215, 37217, 37235, 37242, 37248, 37251, 37254, 37263, 37272, 37296, 37302, 37306, 37313, 37326, 37329, 37331, 37341, 37345, 37352, 37356, 37361, 37371, 37373, 37374, 37383, 37387, 37395, 37398, 37399, 37407, 37416, 37419, 37434, 37441, 37442, 37461, 37470, 37480, 37489, 37506, 37515, 37531, 37534, 37536, 37540, 37554, 37556, 37575, 37581, 37583, 37597, 37603, 37617, 37629, 37630, 37632, 37633, 37636, 37643, 37658, 37680, 37684, 37692, 37702, 37704, 37712, 37713, 37718, 37719, 37739, 37741, 37742, 37745, 37753, 37780, 37803, 37822, 37836, 37841, 37869, 37870, 37878, 37880, 37889, 37894, 37903, 37904, 37906, 37909, 37914, 37915, 37935, 37936, 37937, 37947, 37953, 37965, 37970, 37976, 37986, 37990, 37997, 38008, 38020, 38022, 38054, 38069, 38078, 38088, 38093, 38105, 38107, 38117, 38124, 38126, 38129, 38153, 38159, 38165, 38183, 38190, 38198, 38200, 38201, 38210, 38212, 38236, 38238, 38239, 38260, 38277, 38283, 38289, 38291, 38292, 38301, 38304, 38311, 38324, 38325, 38329, 38330, 38334, 38336, 38343, 38350, 38357, 38378, 38395, 38405, 38409, 38411, 38414, 38418, 38424, 38439, 38440, 38455, 38456, 38471, 38477, 38486, 38494, 38504, 38507, 38509, 38521, 38530, 38531, 38536, 38542, 38568, 38571, 38575, 38579, 38582, 38585, 38589, 38593, 38623, 38629, 38638, 38644, 38654, 38656, 38678, 38686, 38687, 38689, 38691, 38704, 38708, 38721, 38732, 38746, 38747, 38748, 38751, 38755, 38756, 38759, 38766, 38771, 38773, 38782, 38788, 38798, 38814, 38816, 38817, 38823, 38826, 38827, 38829, 38832, 38844, 38852, 38859, 38886, 38890, 38895, 38898, 38899, 38901, 38904, 38918, 38919, 38921, 38926, 38929, 38930, 38934, 38935, 38950, 38952, 38957, 38963, 38978, 38994, 39002, 39006, 39008, 39019, 39020, 39024, 39030, 39033, 39040, 39057, 39067, 39072, 39089, 39096, 39122, 39143, 39162, 39164, 39180, 39188, 39205, 39210, 39213, 39225, 39232, 39238, 39244, 39247, 39249, 39253, 39262, 39275, 39280, 39298, 39303, 39305, 39307, 39310, 39317, 39322, 39340, 39341, 39347, 39349, 39359, 39364, 39365, 39366, 39371, 39384, 39401, 39436, 39442, 39449, 39472, 39474, 39483, 39487, 39495, 39502, 39504, 39506, 39516, 39518, 39543, 39547, 39549, 39550, 39582, 39585, 39587, 39588, 39591, 39592, 39593, 39604, 39606, 39607, 39624, 39628, 39636, 39637, 39663, 39668, 39672, 39681, 39688, 39692, 39699, 39704, 39713, 39714, 39716, 39718, 39723, 39729, 39755, 39757, 39768, 39773, 39774, 39783, 39792, 39793, 39798, 39799, 39801, 39802, 39817, 39818, 39841, 39857, 39858, 39859, 39860, 39861, 39863, 39865, 39866, 39882, 39887, 39893, 39897, 39924, 39934, 39935, 39940, 39949, 39950, 39952, 39953, 39958, 39969, 39984, 39990, 40002, 40003, 40008, 40009, 40015, 40026, 40055, 40059, 40067, 40068, 40070, 40074, 40077, 40078, 40079, 40082, 40087, 40093, 40097, 40100, 40105, 40120, 40130, 40131, 40136, 40137, 40139, 40154, 40196, 40198, 40205, 40207, 40217, 40220, 40230, 40233, 40241, 40243, 40262, 40264, 40265, 40274, 40288, 40292, 40298, 40306, 40308, 40311, 40320, 40322, 40325, 40334, 40336, 40348, 40353, 40354, 40356, 40361, 40364, 40365, 40366, 40368, 40382, 40390, 40396, 40413, 40423, 40426, 40427, 40467, 40469, 40470, 40476, 40478, 40480, 40483, 40497, 40546, 40549, 40551, 40555, 40558, 40561, 40562, 40566, 40574, 40576, 40581, 40582, 40583, 40593, 40608, 40612, 40617, 40619, 40625, 40626, 40630, 40636, 40640, 40652, 40656, 40666, 40670, 40671, 40674, 40677, 40679, 40689, 40702, 40707, 40724, 40734, 40769, 40774, 40776, 40782, 40783, 40797, 40798, 40802, 40803, 40809, 40810, 40815, 40826, 40840, 40844, 40857, 40868, 40877, 40892, 40898, 40901, 40906, 40921, 40923, 40925, 40945, 40957, 40958, 40966, 40985, 41000, 41011, 41014, 41020, 41025, 41036, 41042, 41053, 41055, 41058, 41063, 41065, 41074, 41081, 41090, 41102, 41110, 41117, 41120, 41135, 41144, 41155, 41156, 41159, 41164, 41168, 41175, 41187, 41206, 41211, 41224, 41240, 41250, 41259, 41263, 41265, 41283, 41286, 41289, 41304, 41305, 41306, 41308, 41321, 41328, 41345, 41354, 41360, 41383, 41387, 41390, 41394, 41416, 41429, 41449, 41454, 41457, 41461, 41479, 41487, 41492, 41498, 41502, 41504, 41506, 41508, 41513, 41520, 41537, 41546, 41555, 41556, 41569, 41570, 41572, 41573, 41580, 41587, 41620, 41626, 41629, 41635, 41664, 41665, 41668, 41670, 41672, 41703, 41718, 41719, 41721, 41722, 41725, 41726, 41732, 41735, 41743, 41769, 41770, 41780, 41781, 41791, 41820, 41837, 41839, 41854, 41858, 41872, 41873, 41899, 41900, 41902, 41909, 41910, 41912, 41921, 41932, 41934, 41948, 41963, 41966, 42012, 42015, 42016, 42023, 42027, 42031, 42032, 42033, 42036, 42041, 42049, 42050, 42052, 42062, 42063, 42072, 42077, 42081, 42086, 42089, 42092, 42110, 42111, 42115, 42121, 42123, 42125, 42140, 42162, 42172, 42176, 42184, 42199, 42202, 42213, 42219, 42227, 42234, 42237, 42242, 42245, 42256, 42274, 42295, 42298, 42308, 42312, 42319, 42329, 42333, 42337, 42351, 42360, 42363, 42366, 42379, 42380, 42393, 42398, 42413, 42417, 42432, 42433, 42449, 42451, 42452, 42456, 42463, 42464, 42470, 42471, 42473, 42476, 42493, 42502, 42507, 42514, 42515, 42531, 42536, 42538, 42549, 42561, 42565, 42570, 42575, 42584, 42587, 42597, 42601, 42610, 42613, 42630, 42653, 42656, 42688, 42703, 42713, 42715, 42733, 42734, 42738, 42750, 42762, 42767, 42769, 42772, 42777, 42780, 42793, 42796, 42807, 42812, 42816, 42825, 42827, 42828, 42842, 42872, 42874, 42877, 42880, 42896, 42917, 42919, 42920, 42936, 42937, 42947, 42954, 42955, 42961, 42963, 42969, 42971, 42974, 42977, 42984, 42989, 42997, 43000, 43003, 43004, 43012, 43014, 43019, 43020, 43029, 43044, 43056, 43070, 43090, 43091, 43095, 43108, 43118, 43146, 43157, 43158, 43164, 43165, 43167, 43176, 43177, 43182, 43188, 43212, 43214, 43226, 43227, 43230, 43238, 43243, 43245, 43250, 43253, 43259, 43266, 43289, 43300, 43309, 43344, 43351, 43354, 43370, 43373, 43376, 43377, 43378, 43382, 43384, 43387, 43398, 43399, 43402, 43413, 43421, 43426, 43431, 43441, 43452, 43455, 43463, 43464, 43469, 43485, 43490, 43504, 43507, 43517, 43520, 43521, 43527, 43532, 43538, 43540, 43548, 43558, 43567, 43568, 43576, 43579, 43581, 43583, 43590, 43608, 43615, 43617, 43621, 43623, 43626, 43628, 43631, 43633, 43641, 43646, 43655, 43661, 43668, 43672, 43674, 43679, 43683, 43691, 43701, 43709, 43711, 43730, 43734, 43735, 43740, 43752, 43770, 43772, 43776, 43789, 43795, 43806, 43809, 43813, 43819, 43821, 43833, 43843, 43852, 43857, 43879, 43880, 43881, 43902, 43904, 43912, 43919, 43924, 43926, 43939, 43941, 43960, 43965, 43973, 43977, 44013, 44015, 44021, 44025, 44037, 44043, 44045, 44046, 44055, 44065, 44066, 44075, 44090, 44093, 44099, 44110, 44116, 44130, 44133, 44134, 44137, 44140, 44176, 44179, 44200, 44201, 44203, 44208, 44212, 44215, 44219, 44224, 44233, 44239, 44259, 44264, 44267, 44277, 44279, 44281, 44282, 44289, 44297, 44325, 44327, 44331, 44336, 44342, 44348, 44351, 44362, 44367, 44376, 44388, 44391, 44392, 44395, 44397, 44428, 44433, 44434, 44435, 44442, 44445, 44454, 44455, 44471, 44474, 44485, 44486, 44495, 44497, 44507, 44530, 44533, 44539, 44546, 44565, 44566, 44567, 44572, 44603, 44607, 44608, 44611, 44612, 44618, 44624, 44630, 44640, 44642, 44649, 44651, 44652, 44655, 44672, 44673, 44682, 44695, 44709, 44718, 44725, 44730, 44731, 44734, 44735, 44763, 44771, 44773, 44806, 44818, 44821, 44822, 44832, 44843, 44846, 44851, 44865, 44866, 44871, 44872, 44876, 44882, 44899, 44913, 44914, 44917, 44919, 44942, 44952, 44953, 44968, 44979, 44995, 45004, 45005, 45006, 45007, 45016, 45019, 45044, 45052, 45075, 45108, 45109, 45122, 45129, 45131, 45138, 45148, 45155, 45160, 45166, 45194]\n"
          ]
        }
      ]
    },
    {
      "cell_type": "markdown",
      "metadata": {
        "id": "wZPOPCpvgx0j"
      },
      "source": [
        "VẼ BIỂU ĐỒ HEATMAP"
      ]
    },
    {
      "cell_type": "code",
      "metadata": {
        "id": "33PlXcCsg-Il"
      },
      "source": [
        "lst_geo = []\n",
        "for i in index_maxlabel:\n",
        "  lst_geo.append(filter_click_lst[\"geometry\"])"
      ],
      "execution_count": 85,
      "outputs": []
    }
  ]
}