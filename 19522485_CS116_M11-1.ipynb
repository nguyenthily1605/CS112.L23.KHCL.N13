{
  "nbformat": 4,
  "nbformat_minor": 0,
  "metadata": {
    "colab": {
      "name": "19522485_CS116.M11.ipynb",
      "provenance": [],
      "collapsed_sections": []
    },
    "kernelspec": {
      "name": "python3",
      "display_name": "Python 3"
    },
    "language_info": {
      "name": "python"
    }
  },
  "cells": [
    {
      "cell_type": "code",
      "metadata": {
        "colab": {
          "base_uri": "https://localhost:8080/"
        },
        "id": "H7NGa8qKO8A5",
        "outputId": "959fe7eb-5af7-4449-d30a-eefda5673e86"
      },
      "source": [
        "pip install geopandas"
      ],
      "execution_count": null,
      "outputs": [
        {
          "output_type": "stream",
          "name": "stdout",
          "text": [
            "Collecting geopandas\n",
            "  Downloading geopandas-0.9.0-py2.py3-none-any.whl (994 kB)\n",
            "\u001b[K     |████████████████████████████████| 994 kB 5.3 MB/s \n",
            "\u001b[?25hCollecting pyproj>=2.2.0\n",
            "  Downloading pyproj-3.2.1-cp37-cp37m-manylinux2010_x86_64.whl (6.3 MB)\n",
            "\u001b[K     |████████████████████████████████| 6.3 MB 14.2 MB/s \n",
            "\u001b[?25hRequirement already satisfied: pandas>=0.24.0 in /usr/local/lib/python3.7/dist-packages (from geopandas) (1.1.5)\n",
            "Requirement already satisfied: shapely>=1.6 in /usr/local/lib/python3.7/dist-packages (from geopandas) (1.7.1)\n",
            "Collecting fiona>=1.8\n",
            "  Downloading Fiona-1.8.20-cp37-cp37m-manylinux1_x86_64.whl (15.4 MB)\n",
            "\u001b[K     |████████████████████████████████| 15.4 MB 37 kB/s \n",
            "\u001b[?25hRequirement already satisfied: click>=4.0 in /usr/local/lib/python3.7/dist-packages (from fiona>=1.8->geopandas) (7.1.2)\n",
            "Requirement already satisfied: six>=1.7 in /usr/local/lib/python3.7/dist-packages (from fiona>=1.8->geopandas) (1.15.0)\n",
            "Requirement already satisfied: setuptools in /usr/local/lib/python3.7/dist-packages (from fiona>=1.8->geopandas) (57.4.0)\n",
            "Collecting munch\n",
            "  Downloading munch-2.5.0-py2.py3-none-any.whl (10 kB)\n",
            "Requirement already satisfied: attrs>=17 in /usr/local/lib/python3.7/dist-packages (from fiona>=1.8->geopandas) (21.2.0)\n",
            "Collecting cligj>=0.5\n",
            "  Downloading cligj-0.7.2-py3-none-any.whl (7.1 kB)\n",
            "Collecting click-plugins>=1.0\n",
            "  Downloading click_plugins-1.1.1-py2.py3-none-any.whl (7.5 kB)\n",
            "Requirement already satisfied: certifi in /usr/local/lib/python3.7/dist-packages (from fiona>=1.8->geopandas) (2021.5.30)\n",
            "Requirement already satisfied: pytz>=2017.2 in /usr/local/lib/python3.7/dist-packages (from pandas>=0.24.0->geopandas) (2018.9)\n",
            "Requirement already satisfied: python-dateutil>=2.7.3 in /usr/local/lib/python3.7/dist-packages (from pandas>=0.24.0->geopandas) (2.8.2)\n",
            "Requirement already satisfied: numpy>=1.15.4 in /usr/local/lib/python3.7/dist-packages (from pandas>=0.24.0->geopandas) (1.19.5)\n",
            "Installing collected packages: munch, cligj, click-plugins, pyproj, fiona, geopandas\n",
            "Successfully installed click-plugins-1.1.1 cligj-0.7.2 fiona-1.8.20 geopandas-0.9.0 munch-2.5.0 pyproj-3.2.1\n"
          ]
        }
      ]
    },
    {
      "cell_type": "code",
      "metadata": {
        "id": "W39Za0ttSuvS"
      },
      "source": [
        "import geopandas as gpd"
      ],
      "execution_count": null,
      "outputs": []
    },
    {
      "cell_type": "code",
      "metadata": {
        "colab": {
          "base_uri": "https://localhost:8080/"
        },
        "id": "v2MtypzeTuAl",
        "outputId": "5724f3d0-3d4c-41af-ce48-85f2e1b00802"
      },
      "source": [
        "!git clone https://github.com/CityScope/CSL_HCMC"
      ],
      "execution_count": null,
      "outputs": [
        {
          "output_type": "stream",
          "name": "stdout",
          "text": [
            "Cloning into 'CSL_HCMC'...\n",
            "remote: Enumerating objects: 1930, done.\u001b[K\n",
            "remote: Counting objects: 100% (590/590), done.\u001b[K\n",
            "remote: Compressing objects: 100% (315/315), done.\u001b[K\n",
            "remote: Total 1930 (delta 308), reused 500 (delta 269), pack-reused 1340\u001b[K\n",
            "Receiving objects: 100% (1930/1930), 176.98 MiB | 24.77 MiB/s, done.\n",
            "Resolving deltas: 100% (985/985), done.\n",
            "Checking out files: 100% (542/542), done.\n"
          ]
        }
      ]
    },
    {
      "cell_type": "code",
      "metadata": {
        "colab": {
          "base_uri": "https://localhost:8080/"
        },
        "id": "zl2rq0g9T_r0",
        "outputId": "e7609fc1-d2e4-4643-c850-8d551b4c9049"
      },
      "source": [
        "!git clone https://github.com/CityScope/CSL_HCMC/blob/25b3d163638ee20ac73ad4f5a33ca9329f5a3d03/Data/GIS/Population/population_HCMC/population_shapefile/Population_Ward_Level.shp"
      ],
      "execution_count": null,
      "outputs": [
        {
          "output_type": "stream",
          "name": "stdout",
          "text": [
            "Cloning into 'Population_Ward_Level.shp'...\n",
            "fatal: repository 'https://github.com/CityScope/CSL_HCMC/blob/25b3d163638ee20ac73ad4f5a33ca9329f5a3d03/Data/GIS/Population/population_HCMC/population_shapefile/Population_Ward_Level.shp/' not found\n"
          ]
        }
      ]
    },
    {
      "cell_type": "code",
      "metadata": {
        "id": "DBcCEEm6U5Ei"
      },
      "source": [
        "file = gpd.read_file(\"/content/CSL_HCMC/Data/GIS/Population/population_HCMC/population_shapefile/Population_Ward_Level.shp\")"
      ],
      "execution_count": null,
      "outputs": []
    },
    {
      "cell_type": "code",
      "metadata": {
        "id": "fBmii0RPZD9w"
      },
      "source": [
        "import numpy as np\n",
        "import matplotlib.pyplot as plt"
      ],
      "execution_count": 48,
      "outputs": []
    },
    {
      "cell_type": "code",
      "metadata": {
        "colab": {
          "base_uri": "https://localhost:8080/",
          "height": 511
        },
        "id": "BIwEoG3zgXZK",
        "outputId": "fefc3c0b-1720-4809-be01-37a7b81814ca"
      },
      "source": [
        "file.plot(column='Com_Name', figsize=(16,8))"
      ],
      "execution_count": 49,
      "outputs": [
        {
          "output_type": "execute_result",
          "data": {
            "text/plain": [
              "<matplotlib.axes._subplots.AxesSubplot at 0x7fc1de0bd410>"
            ]
          },
          "metadata": {},
          "execution_count": 49
        },
        {
          "output_type": "display_data",
          "data": {
            "image/png": "[encoded data removed]",
            "text/plain": [
              "<Figure size 1152x576 with 1 Axes>"
            ]
          },
          "metadata": {
            "needs_background": "light"
          }
        }
      ]
    },
    {
      "cell_type": "markdown",
      "metadata": {
        "id": "mt09vdqSXzKn"
      },
      "source": [
        "1. Phường có diện tích lớn nhất"
      ]
    },
    {
      "cell_type": "code",
      "metadata": {
        "colab": {
          "base_uri": "https://localhost:8080/"
        },
        "id": "yFUqmIV7XbxE",
        "outputId": "1c585f77-e990-47c4-a2d3-bcdcbb86ef32"
      },
      "source": [
        "maxarea = np.max(file[\"Shape_Area\"])\n",
        "print(\"Phuong co dien tich lon nhat la:\" + str(list(file[file[\"Shape_Area\"]==maxarea][\"Com_Name\"])[0] + \", dien tich: \" + str(maxarea)))"
      ],
      "execution_count": null,
      "outputs": [
        {
          "output_type": "stream",
          "name": "stdout",
          "text": [
            "Phuong co dien tich lon nhat la:Ly Nhon, dien tich: 161193856.431\n"
          ]
        }
      ]
    },
    {
      "cell_type": "markdown",
      "metadata": {
        "id": "sFOr9CeAX6wE"
      },
      "source": [
        "2. Phường có dân số lớn nhất"
      ]
    },
    {
      "cell_type": "code",
      "metadata": {
        "colab": {
          "base_uri": "https://localhost:8080/"
        },
        "id": "KW1aiPPwXb38",
        "outputId": "c43ef1e4-ba3e-4bc2-c694-4d7090973248"
      },
      "source": [
        "print(\"Phuong co dan so lon nhat: \")\n",
        "print (file[\"Com_Name\"][file[\"Pop_2019\"].idxmax()])\n"
      ],
      "execution_count": null,
      "outputs": [
        {
          "output_type": "stream",
          "name": "stdout",
          "text": [
            "Phuong co dan so lon nhat: \n",
            "Vinh Loc A\n"
          ]
        }
      ]
    },
    {
      "cell_type": "markdown",
      "metadata": {
        "id": "xJSjXY63aC84"
      },
      "source": [
        "3. Phường có dân số thấp nhất"
      ]
    },
    {
      "cell_type": "code",
      "metadata": {
        "colab": {
          "base_uri": "https://localhost:8080/"
        },
        "id": "H_G-TlfWaF-r",
        "outputId": "ca99ad76-d840-42b8-c6b1-a0b49e27d6dc"
      },
      "source": [
        "print(\"Phuong co dan so thap nhat: \")\n",
        "print (file[\"Com_Name\"][file[\"Pop_2019\"].idxmin()])"
      ],
      "execution_count": null,
      "outputs": [
        {
          "output_type": "stream",
          "name": "stdout",
          "text": [
            "Phuong co dan so thap nhat: \n",
            "An Khanh\n"
          ]
        }
      ]
    },
    {
      "cell_type": "markdown",
      "metadata": {
        "id": "bhu33zpkYIK-"
      },
      "source": [
        "4. Phường nào có diện tích nhỏ **nhất**"
      ]
    },
    {
      "cell_type": "code",
      "metadata": {
        "colab": {
          "base_uri": "https://localhost:8080/"
        },
        "id": "7i58xz74YJ4Y",
        "outputId": "f5bb8f24-e085-438b-fdc9-49952893599f"
      },
      "source": [
        "minarea = np.min(file[\"Shape_Area\"])\n",
        "print(\"Phuong co dien tich nho nhat la:\" + str(list(file[file[\"Shape_Area\"]==minarea][\"Com_Name\"])[0] + \", dien tich: \" + str(minarea)))"
      ],
      "execution_count": null,
      "outputs": [
        {
          "output_type": "stream",
          "name": "stdout",
          "text": [
            "Phuong co dien tich nho nhat la:Ward 3, dien tich: 101642.928821\n"
          ]
        }
      ]
    },
    {
      "cell_type": "code",
      "metadata": {
        "id": "dg6BA_h7dKIU"
      },
      "source": [
        "rate = file[\"Pop_2019\"]/file[\"Pop_2009\"]"
      ],
      "execution_count": null,
      "outputs": []
    },
    {
      "cell_type": "code",
      "metadata": {
        "colab": {
          "base_uri": "https://localhost:8080/"
        },
        "id": "mKuOSYLTdqf6",
        "outputId": "d3d78484-16fe-4046-d841-4655e5d8b6c7"
      },
      "source": [
        "print(\"Phuong co dan so tang truong cham nhat la: \", file[\"Com_Name\"][rate.idxmin()])"
      ],
      "execution_count": null,
      "outputs": [
        {
          "output_type": "stream",
          "name": "stdout",
          "text": [
            "Phuong co dan so tang truong cham nhat la:  An Khanh\n"
          ]
        }
      ]
    },
    {
      "cell_type": "code",
      "metadata": {
        "colab": {
          "base_uri": "https://localhost:8080/"
        },
        "id": "bPTQ50gVeGMU",
        "outputId": "52f90a8f-907c-4326-8154-04b61c666695"
      },
      "source": [
        "print(\"Phuong co dan so tang truong nhanh nhat la: \", file[\"Com_Name\"][rate.idxmax()])"
      ],
      "execution_count": null,
      "outputs": [
        {
          "output_type": "stream",
          "name": "stdout",
          "text": [
            "Phuong co dan so tang truong nhanh nhat la:  Phu Huu\n"
          ]
        }
      ]
    },
    {
      "cell_type": "code",
      "metadata": {
        "id": "e4CcZiCQeMoz"
      },
      "source": [
        "matdo = file[\"Pop_2019\"]/file[\"Shape_Area\"]"
      ],
      "execution_count": null,
      "outputs": []
    },
    {
      "cell_type": "code",
      "metadata": {
        "colab": {
          "base_uri": "https://localhost:8080/"
        },
        "id": "HdUqErdeeez_",
        "outputId": "8de7b830-6332-493f-a10a-003ed09ddbc7"
      },
      "source": [
        "print(\"Phuong co mat do dan so cao nhat la: \", file[\"Com_Name\"][matdo.idxmax()])"
      ],
      "execution_count": null,
      "outputs": [
        {
          "output_type": "stream",
          "name": "stdout",
          "text": [
            "Phuong co mat do dan so cao nhat la:  Ward 8\n"
          ]
        }
      ]
    },
    {
      "cell_type": "code",
      "metadata": {
        "colab": {
          "base_uri": "https://localhost:8080/"
        },
        "id": "Vs2NRS-aezhB",
        "outputId": "d4f417b8-5354-4a92-e19f-e6b9834146ea"
      },
      "source": [
        "print(\"Phuong co mat do dan so thap nhat la: \", file[\"Com_Name\"][matdo.idxmin()])"
      ],
      "execution_count": null,
      "outputs": [
        {
          "output_type": "stream",
          "name": "stdout",
          "text": [
            "Phuong co mat do dan so thap nhat la:  Ly Nhon\n"
          ]
        }
      ]
    },
    {
      "cell_type": "code",
      "metadata": {
        "id": "E4mSPCtpe5Fb"
      },
      "source": [
        "biendong = file[\"Pop_2019\"] - file[\"Pop_2009\"]"
      ],
      "execution_count": null,
      "outputs": []
    },
    {
      "cell_type": "code",
      "metadata": {
        "colab": {
          "base_uri": "https://localhost:8080/"
        },
        "id": "CJp6lVKue_6h",
        "outputId": "5dbf1400-500d-49e1-a660-841423bafc3e"
      },
      "source": [
        "print(\"Phuong co bien dong dan so thap nhat la: \", file[\"Com_Name\"][biendong.idxmin()])"
      ],
      "execution_count": null,
      "outputs": [
        {
          "output_type": "stream",
          "name": "stdout",
          "text": [
            "Phuong co bien dong dan so thap nhat la:  An Khanh\n"
          ]
        }
      ]
    },
    {
      "cell_type": "code",
      "metadata": {
        "colab": {
          "base_uri": "https://localhost:8080/"
        },
        "id": "WhQlRblUfKlq",
        "outputId": "0e63582d-29b9-4cb4-e232-b0b238848a43"
      },
      "source": [
        "print(\"Phuong co bien dong dan so thap nhat la: \", file[\"Com_Name\"][biendong.idxmax()])"
      ],
      "execution_count": null,
      "outputs": [
        {
          "output_type": "stream",
          "name": "stdout",
          "text": [
            "Phuong co bien dong dan so thap nhat la:  Vinh Loc A\n"
          ]
        }
      ]
    }
  ]
}